{
  "nbformat": 4,
  "nbformat_minor": 0,
  "metadata": {
    "colab": {
      "name": "User_Based.ipynb",
      "provenance": []
    },
    "kernelspec": {
      "name": "python3",
      "display_name": "Python 3"
    },
    "language_info": {
      "name": "python"
    }
  },
  "cells": [
    {
      "cell_type": "code",
      "execution_count": 1,
      "metadata": {
        "id": "g5lyKaAX--i9"
      },
      "outputs": [],
      "source": [
        "import pandas as pd"
      ]
    },
    {
      "cell_type": "code",
      "source": [
        "df=pd.read_csv('/content/drive/MyDrive/train_triplets.txt')"
      ],
      "metadata": {
        "id": "NfZGaqAxHT3k"
      },
      "execution_count": 2,
      "outputs": []
    },
    {
      "cell_type": "code",
      "source": [
        "df=df.values"
      ],
      "metadata": {
        "id": "sN9dq0tBSGgq"
      },
      "execution_count": 3,
      "outputs": []
    },
    {
      "cell_type": "code",
      "source": [
        "df.size"
      ],
      "metadata": {
        "colab": {
          "base_uri": "https://localhost:8080/"
        },
        "id": "AfMI7kCQrOxX",
        "outputId": "f7564eba-d083-41a4-8b09-55fa069260cc"
      },
      "execution_count": 4,
      "outputs": [
        {
          "output_type": "execute_result",
          "data": {
            "text/plain": [
              "48373585"
            ]
          },
          "metadata": {},
          "execution_count": 4
        }
      ]
    },
    {
      "cell_type": "code",
      "source": [
        "column={\"user_id\",\"song_id\",\"count\"}\n",
        "df_new=pd.DataFrame(columns=column)"
      ],
      "metadata": {
        "id": "aRA_vtuiPnit"
      },
      "execution_count": 13,
      "outputs": []
    },
    {
      "cell_type": "code",
      "source": [
        "#Size of the dataset is 48373585 but I am considering 30K only\n",
        "for i in range(30000):\n",
        "    data = df[i][0].split('\\t')\n",
        "    data=[data]\n",
        "    temp=pd.DataFrame(data,columns=column)\n",
        "    df_new=df_new.append(temp,ignore_index=True)     "
      ],
      "metadata": {
        "id": "JULghAaaQDMP"
      },
      "execution_count": 14,
      "outputs": []
    },
    {
      "cell_type": "code",
      "source": [
        "df_new=df_new.rename(columns={\"user_id\":\"song_id\",\"song_id\":\"user_id\"})"
      ],
      "metadata": {
        "id": "BTQkodIIXQDX"
      },
      "execution_count": 16,
      "outputs": []
    },
    {
      "cell_type": "code",
      "source": [
        "df_new.head()"
      ],
      "metadata": {
        "colab": {
          "base_uri": "https://localhost:8080/",
          "height": 206
        },
        "id": "kJdkw-MHxcID",
        "outputId": "a7959764-43c3-4f37-fc93-a71f272db81e"
      },
      "execution_count": 17,
      "outputs": [
        {
          "output_type": "execute_result",
          "data": {
            "text/plain": [
              "                                    user_id             song_id count\n",
              "0  b80344d063b5ccb3212f76538f3d9e43d87dca9e  SOAPDEY12A81C210A9     1\n",
              "1  b80344d063b5ccb3212f76538f3d9e43d87dca9e  SOBBMDR12A8C13253B     2\n",
              "2  b80344d063b5ccb3212f76538f3d9e43d87dca9e  SOBFNSP12AF72A0E22     1\n",
              "3  b80344d063b5ccb3212f76538f3d9e43d87dca9e  SOBFOVM12A58A7D494     1\n",
              "4  b80344d063b5ccb3212f76538f3d9e43d87dca9e  SOBNZDC12A6D4FC103     1"
            ],
            "text/html": [
              "\n",
              "  <div id=\"df-f9b094c3-9032-4edc-930b-0703f8d99424\">\n",
              "    <div class=\"colab-df-container\">\n",
              "      <div>\n",
              "<style scoped>\n",
              "    .dataframe tbody tr th:only-of-type {\n",
              "        vertical-align: middle;\n",
              "    }\n",
              "\n",
              "    .dataframe tbody tr th {\n",
              "        vertical-align: top;\n",
              "    }\n",
              "\n",
              "    .dataframe thead th {\n",
              "        text-align: right;\n",
              "    }\n",
              "</style>\n",
              "<table border=\"1\" class=\"dataframe\">\n",
              "  <thead>\n",
              "    <tr style=\"text-align: right;\">\n",
              "      <th></th>\n",
              "      <th>user_id</th>\n",
              "      <th>song_id</th>\n",
              "      <th>count</th>\n",
              "    </tr>\n",
              "  </thead>\n",
              "  <tbody>\n",
              "    <tr>\n",
              "      <th>0</th>\n",
              "      <td>b80344d063b5ccb3212f76538f3d9e43d87dca9e</td>\n",
              "      <td>SOAPDEY12A81C210A9</td>\n",
              "      <td>1</td>\n",
              "    </tr>\n",
              "    <tr>\n",
              "      <th>1</th>\n",
              "      <td>b80344d063b5ccb3212f76538f3d9e43d87dca9e</td>\n",
              "      <td>SOBBMDR12A8C13253B</td>\n",
              "      <td>2</td>\n",
              "    </tr>\n",
              "    <tr>\n",
              "      <th>2</th>\n",
              "      <td>b80344d063b5ccb3212f76538f3d9e43d87dca9e</td>\n",
              "      <td>SOBFNSP12AF72A0E22</td>\n",
              "      <td>1</td>\n",
              "    </tr>\n",
              "    <tr>\n",
              "      <th>3</th>\n",
              "      <td>b80344d063b5ccb3212f76538f3d9e43d87dca9e</td>\n",
              "      <td>SOBFOVM12A58A7D494</td>\n",
              "      <td>1</td>\n",
              "    </tr>\n",
              "    <tr>\n",
              "      <th>4</th>\n",
              "      <td>b80344d063b5ccb3212f76538f3d9e43d87dca9e</td>\n",
              "      <td>SOBNZDC12A6D4FC103</td>\n",
              "      <td>1</td>\n",
              "    </tr>\n",
              "  </tbody>\n",
              "</table>\n",
              "</div>\n",
              "      <button class=\"colab-df-convert\" onclick=\"convertToInteractive('df-f9b094c3-9032-4edc-930b-0703f8d99424')\"\n",
              "              title=\"Convert this dataframe to an interactive table.\"\n",
              "              style=\"display:none;\">\n",
              "        \n",
              "  <svg xmlns=\"http://www.w3.org/2000/svg\" height=\"24px\"viewBox=\"0 0 24 24\"\n",
              "       width=\"24px\">\n",
              "    <path d=\"M0 0h24v24H0V0z\" fill=\"none\"/>\n",
              "    <path d=\"M18.56 5.44l.94 2.06.94-2.06 2.06-.94-2.06-.94-.94-2.06-.94 2.06-2.06.94zm-11 1L8.5 8.5l.94-2.06 2.06-.94-2.06-.94L8.5 2.5l-.94 2.06-2.06.94zm10 10l.94 2.06.94-2.06 2.06-.94-2.06-.94-.94-2.06-.94 2.06-2.06.94z\"/><path d=\"M17.41 7.96l-1.37-1.37c-.4-.4-.92-.59-1.43-.59-.52 0-1.04.2-1.43.59L10.3 9.45l-7.72 7.72c-.78.78-.78 2.05 0 2.83L4 21.41c.39.39.9.59 1.41.59.51 0 1.02-.2 1.41-.59l7.78-7.78 2.81-2.81c.8-.78.8-2.07 0-2.86zM5.41 20L4 18.59l7.72-7.72 1.47 1.35L5.41 20z\"/>\n",
              "  </svg>\n",
              "      </button>\n",
              "      \n",
              "  <style>\n",
              "    .colab-df-container {\n",
              "      display:flex;\n",
              "      flex-wrap:wrap;\n",
              "      gap: 12px;\n",
              "    }\n",
              "\n",
              "    .colab-df-convert {\n",
              "      background-color: #E8F0FE;\n",
              "      border: none;\n",
              "      border-radius: 50%;\n",
              "      cursor: pointer;\n",
              "      display: none;\n",
              "      fill: #1967D2;\n",
              "      height: 32px;\n",
              "      padding: 0 0 0 0;\n",
              "      width: 32px;\n",
              "    }\n",
              "\n",
              "    .colab-df-convert:hover {\n",
              "      background-color: #E2EBFA;\n",
              "      box-shadow: 0px 1px 2px rgba(60, 64, 67, 0.3), 0px 1px 3px 1px rgba(60, 64, 67, 0.15);\n",
              "      fill: #174EA6;\n",
              "    }\n",
              "\n",
              "    [theme=dark] .colab-df-convert {\n",
              "      background-color: #3B4455;\n",
              "      fill: #D2E3FC;\n",
              "    }\n",
              "\n",
              "    [theme=dark] .colab-df-convert:hover {\n",
              "      background-color: #434B5C;\n",
              "      box-shadow: 0px 1px 3px 1px rgba(0, 0, 0, 0.15);\n",
              "      filter: drop-shadow(0px 1px 2px rgba(0, 0, 0, 0.3));\n",
              "      fill: #FFFFFF;\n",
              "    }\n",
              "  </style>\n",
              "\n",
              "      <script>\n",
              "        const buttonEl =\n",
              "          document.querySelector('#df-f9b094c3-9032-4edc-930b-0703f8d99424 button.colab-df-convert');\n",
              "        buttonEl.style.display =\n",
              "          google.colab.kernel.accessAllowed ? 'block' : 'none';\n",
              "\n",
              "        async function convertToInteractive(key) {\n",
              "          const element = document.querySelector('#df-f9b094c3-9032-4edc-930b-0703f8d99424');\n",
              "          const dataTable =\n",
              "            await google.colab.kernel.invokeFunction('convertToInteractive',\n",
              "                                                     [key], {});\n",
              "          if (!dataTable) return;\n",
              "\n",
              "          const docLinkHtml = 'Like what you see? Visit the ' +\n",
              "            '<a target=\"_blank\" href=https://colab.research.google.com/notebooks/data_table.ipynb>data table notebook</a>'\n",
              "            + ' to learn more about interactive tables.';\n",
              "          element.innerHTML = '';\n",
              "          dataTable['output_type'] = 'display_data';\n",
              "          await google.colab.output.renderOutput(dataTable, element);\n",
              "          const docLink = document.createElement('div');\n",
              "          docLink.innerHTML = docLinkHtml;\n",
              "          element.appendChild(docLink);\n",
              "        }\n",
              "      </script>\n",
              "    </div>\n",
              "  </div>\n",
              "  "
            ]
          },
          "metadata": {},
          "execution_count": 17
        }
      ]
    },
    {
      "cell_type": "code",
      "source": [
        "df_train=df_new"
      ],
      "metadata": {
        "id": "ecVFIvEdxij6"
      },
      "execution_count": 19,
      "outputs": []
    },
    {
      "cell_type": "code",
      "source": [
        "#Recommending playlist for the user : \n",
        "#Calculating playlist of user\n",
        "id=\"b80344d063b5ccb3212f76538f3d9e43d87dca9e\"\n",
        "playlist=[]\n",
        "store={}\n",
        "for i in range(30000):\n",
        "  temp_id=df_new['user_id'][i]\n",
        "  if(temp_id==id):\n",
        "      playlist.append(df_train['song_id'][i])\n",
        "  else:\n",
        "      if(df_new['song_id'][i] in playlist):\n",
        "        if(store.get(temp_id) is not None):\n",
        "          store[temp_id]=store[temp_id]+df_new['count'][i]\n",
        "        else:\n",
        "          store[temp_id]=df_new['count'][i]\n",
        "for i in range(30000):\n",
        "  temp_id=df_new['user_id'][i]"
      ],
      "metadata": {
        "id": "nkD81S7sSmuA"
      },
      "execution_count": 34,
      "outputs": []
    },
    {
      "cell_type": "code",
      "source": [
        "store"
      ],
      "metadata": {
        "colab": {
          "base_uri": "https://localhost:8080/"
        },
        "id": "mLKDqwLkyAj7",
        "outputId": "71af7bb9-3672-45da-ad54-8bb05513c014"
      },
      "execution_count": 35,
      "outputs": [
        {
          "output_type": "execute_result",
          "data": {
            "text/plain": [
              "{'01655ae6bc52e29c9cd100a7dde4e9eeae5e4031': '11',\n",
              " '03ccd6969d796607ca4e04cb120e56fceb823445': '6',\n",
              " '07caa920795cd4f20bfeeb0e192a5ddd9566ecdd': '311',\n",
              " '0afaa5d9d04bf85af720fe8cc566a41ca3e41c97': '2',\n",
              " '0b03286244d1cb0662fefddade241f56a1bae573': '11',\n",
              " '0d176eb95537800a1e67ed5fe82eab3d2caafca9': '11',\n",
              " '0dd93f61fe69f292ac336715ef607214efb3dbaa': '2',\n",
              " '12768858f6a825452e412deb1df36d2d1d9c6791': '4',\n",
              " '1645b689f873529ab85e3b72742be44813e82bd3': '1',\n",
              " '16cd9a19b5a433919b3cf86073670369e8d2e4f8': '23',\n",
              " '179b2286bb4eea7193bcfa0c36fcfa4eade2b34d': '6',\n",
              " '18dc95f354220b343e98ebbb7c8564291284ed9f': '2',\n",
              " '1b724b66314d54ad60efae79a106482072108afc': '46',\n",
              " '1ceb5b69909fc226527ec9a3c83258569e3bedaf': '2',\n",
              " '2341121b6d6d2020303f02053dad60586e41034d': '1',\n",
              " '25c685bf46dc020a5a18219a76b911e27b02dc0c': '1',\n",
              " '28b232e7ecb32c47c05b795a017786d4be96ef7e': '1',\n",
              " '2a0bfd858b2ed706d390d5b6562b8fafe26092ba': '1',\n",
              " '2d4df82baf7a0c2f39706a40c25f96fa0c61ef19': '2',\n",
              " '2f343c8bd0502c4cf851a6970e47d296a4b76d5b': '1',\n",
              " '33807e46640c7be38f02b6a61d7f1a4f31446b52': '1',\n",
              " '343fc3fb987ca12c3c5df154c2b4721ca111f696': '1',\n",
              " '355429a240c40b288d8b9c48e2849c5f67303dab': '1',\n",
              " '38b3d1771dfbd0d8e2391ad3749f0bd93643210b': '11',\n",
              " '390c2e81bc9cf885608a0891c0a7eb13f1fd3336': '21',\n",
              " '3a6b893f5616e95213f61e87e3022a3d665afa7c': '1',\n",
              " '3bd42c39df324c33509a40ca917343553ef38da9': '2',\n",
              " '3f9a8180776f260cd5bd933e6c49085c687856a2': '1',\n",
              " '3ff7a31452eeabd7a4e07f0d243c674e3d0adf46': '9',\n",
              " '446a9fcf3dfd3397b1d3e2d9fe8940fd7dd3da8c': '1',\n",
              " '4691b4c353503da2c108e372ff056a9ac847c4d1': '1',\n",
              " '4782b9bb73322bf80329ce5989128a67bc538747': '5',\n",
              " '4c6e2b39891084e55a670676aecc582a7ad5eee4': '1111',\n",
              " '4ccd8c954827238fb97bcedf005ef6b3602370dd': '3',\n",
              " '4e32e7efbea85d6f73a1cad6abb9a0863973d433': '9',\n",
              " '4e8a2e741cbd0f0c8e7e434e7c157a64eb00f3b2': '1',\n",
              " '4f8069af6e4de72d619bda3801c0d44f8cc82719': '1',\n",
              " '537340ff896dea11328910013cfe759413e1eeb3': '2',\n",
              " '66166f4f57bb897f1f8e2aae6f53f776088f43d8': '2',\n",
              " '66da9a2bd5b588e150e08ff9510b59fe30a4abcd': '51',\n",
              " '671535e41cf20fc48311fccc5256aa1e18aca115': '21',\n",
              " '6ac64072cb8f308f36c64cc4aafb6021fef70476': '1',\n",
              " '6b015fe063d77e86c3b995fe1c18a2fdce9b8946': '20',\n",
              " '6beb4699102775dab57aa406c5ea1217c4ff4869': '10',\n",
              " '6f62f1c30b0f4b87db28c101ddcab89b4f5d7298': '1',\n",
              " '6f8453b0d9d2199f98c1992995a8445ad6837fd8': '1',\n",
              " '700c3f0cdd497ed53b3f0244ab11fb548615835a': '352',\n",
              " '7321eacd7dacb47f92f8a364b50df9946cd6e230': '107',\n",
              " '732f88be38fae217f8ab7e24c20dd072436e3e40': '11',\n",
              " '77448d704c1b9acc37037d400302ce7f8a9496c7': '1',\n",
              " '788b4a6742e3591ee18533ff2193f7b3351e991e': '2',\n",
              " '7c8338a3cec437b18cd74e66d9e3c99f426f3d13': '141',\n",
              " '7ef2a3b074b34984f3f677bddde0f1813486cc10': '1',\n",
              " '8207221df7894bb773bbe9814a4a8ef81b57acca': '1',\n",
              " '8244d38b6505d44c6f44a4b29ad7fa260578e419': '1',\n",
              " '8247c08db9dba6cc18cff4381c7279e540c374cb': '1',\n",
              " '838108b69c82ebdf7cddd61ac2c0e1d2572e43b6': '1',\n",
              " '83d749fe111a23344f4b347a25ee653d66396e64': '1',\n",
              " '85952991b8e3ca5803a08b0b2f9c6d71abf9bb5b': '11812',\n",
              " '85d0d381551960608e02df98956277e495b3cf6b': '3',\n",
              " '899ad8c283d7ca9aadb84ad93a00d6cea50f1fd7': '5',\n",
              " '8bc2733e75989c8de36cf1bb596dabfd72734e86': '1',\n",
              " '8cbb5066924ec788e3fea9a4aae59586f46f38fa': '12',\n",
              " '8ce5dde3941dfc039a6384de713cc287f645412a': '2',\n",
              " '8fa25e588aeedaa539674babb75729ac9f31f15e': '1',\n",
              " '8fce200f3912e9608e3b1463cdb9c3529aab5c08': '2',\n",
              " '9012fdca7eee0b946329367498a578adb5271ed8': '2',\n",
              " '930d2be6c85315d72cab9823ec0f7bfe7e477794': '1121',\n",
              " '95773b3725a96464c85a5121d00f2566e6e8b69b': '139',\n",
              " '97cd6b9403a63af8b37839f959e1758a3923539f': '4',\n",
              " '98403bb989442671e14054a9a4638338dcb67576': '21',\n",
              " '98f6ec3ec16c5bcb3f37a6dc01ebb1110fb42f97': '65',\n",
              " '9b392166d01817895c03dc190f4eff58153a25e3': '1',\n",
              " '9b887e10a4711486085c4fae2d2599fc0d2c484d': '711',\n",
              " '9c08ae642cda7f69dfa3f00c4593c848409bbfff': '6',\n",
              " '9c4e14bbd043846b632d3737f08104dcaeb88142': '1',\n",
              " '9d100b4175fed9da71b76800b921c4a40d0208b5': '5',\n",
              " '9e203b9f99b39fce61aca28d439dcee8c7914420': '1',\n",
              " '9fba771d9731561eba47216f6fbfc0023d88641b': '19',\n",
              " '9fbc0cc4fe6191cabdddf41124bd507dca08ceb6': '8',\n",
              " 'a58de017cbeda1763ea002fe027ed41b4ed53109': '73',\n",
              " 'a5cc4c1c78e830b43bba70a8d439ad865ca8026f': '6',\n",
              " 'a699816c7f4f8855808eee732a5cbd1620091998': '21',\n",
              " 'abb000feb50180aa9db8438a80c0359823eb9366': '7',\n",
              " 'ac1cb58f839ae6773732125e99b4a7394e0661e4': '11',\n",
              " 'b1269307f2ae8c17062c6aea2502b099aad517b6': '51112',\n",
              " 'b12c786deef0e618b5f277bc337f67128f425efe': '113',\n",
              " 'b4e32cdb654ab914a0ac73d2bbc5cae142da405a': '7',\n",
              " 'b64cdd1a0bd907e5e00b39e345194768e330d652': '1',\n",
              " 'b6b799f34a204bd928ea014c243ddad6d0be4f8f': '12',\n",
              " 'baf47ed8da24d607e50d8684cde78b923538640f': '1',\n",
              " 'bd8475385f0aa78830fa6dfce9e7242164b035c8': '2',\n",
              " 'be0a4b64e9689c46e94b5a9a9c7910ee61aeb16f': '4',\n",
              " 'bf03bbb01a7803ed1a5fec51bfe9423a79737d1a': '1',\n",
              " 'c18b096e15ca0adf42c11763c9535973cc4b507b': '2',\n",
              " 'c24ec42f0e449ff39a95a01f0795f833b898f71b': '1126',\n",
              " 'c5c7548cba9970b695f1ade5164c11a0101eb00e': '3',\n",
              " 'c6bb7f1933a8024e52f83e35335b31967108aeba': '4',\n",
              " 'c89deba92634cfa0a7d2e1b696b82d67f5282cd5': '1',\n",
              " 'c9238dfb9fb25e453c3b9166fdf85cb8d5cd7ff5': '4',\n",
              " 'cd4566f790e053cccf8448fe1d126f3c4ef2e996': '1',\n",
              " 'd2f7afe12fbd26fc2bed0039740fc6af579920c0': '7',\n",
              " 'd9b64b85589775e7aa0ac5fbb7fbf255f8792b4b': '1',\n",
              " 'd9f2ea75b38f548535caee41d2c0b0e3f9859b1b': '4',\n",
              " 'dd67a78d5f9d8140a0d83849441ca1807f7ea790': '22',\n",
              " 'dd88ea94f605a63d9fc37a214127e3f00e85e42d': '1',\n",
              " 'dde4fa01de271d51a4a5617ae79820cee7d26d96': '1',\n",
              " 'debd7b5a906c947738a5b9f0c899709817643301': '5',\n",
              " 'e006b1a48f466bf59feefed32bec6494495a4436': '3',\n",
              " 'e06fdac28cdd1d69d89de27868d5f02f71c2ee44': '1',\n",
              " 'e2f4c0d8b5b7e50c31931300e9339943fc0cca99': '19',\n",
              " 'e3e9de8f712b435cdbe4e767ac2c414f585400f1': '1',\n",
              " 'e4c05157f8cebdf3b9d689c441ba97c5ed5db05b': '11',\n",
              " 'e697f7b095a4f7cd83f00575741cf5d1a1850b37': '4',\n",
              " 'e701a24d9b6c59f5ac37ab28462ca82470e27cfb': '2',\n",
              " 'ea07020bb223c733ccc55aa925ebcc25c4d97377': '7',\n",
              " 'eb1ad31d040406c6428c5f4420b0bc709b1c5350': '1',\n",
              " 'ec0bb33707cdc61a6999b41585a0e1f39d0ae6d3': '3',\n",
              " 'ed7d4c476013b1c3dd91982b61494bf7436083ba': '1',\n",
              " 'edc4e3b50cb4f23282a157edc7ca7cf09afcc093': '21',\n",
              " 'edc8b7b1fd592a3b69c3d823a742e1a064abec95': '3',\n",
              " 'f10e613636ee8e1f4d3a7f2b21ca9cd36d2e9d8d': '1',\n",
              " 'f927dddfe26b0c74ada3eaadca41bfb462c37ee4': '11',\n",
              " 'fd13b9d49c54e00ff413fe3c095ba581c7fc611e': '8',\n",
              " 'fe76c9d535c5834e4a9b91c13e29be6460cb79c4': '21'}"
            ]
          },
          "metadata": {},
          "execution_count": 35
        }
      ]
    },
    {
      "cell_type": "code",
      "source": [
        "#5 most similar users\n",
        "from heapq import nlargest\n",
        "res = nlargest(5, store, key = store.get)\n"
      ],
      "metadata": {
        "id": "DUtz5S5GeJqU"
      },
      "execution_count": 36,
      "outputs": []
    },
    {
      "cell_type": "code",
      "source": [
        "res"
      ],
      "metadata": {
        "colab": {
          "base_uri": "https://localhost:8080/"
        },
        "id": "u1aEkqCczexS",
        "outputId": "98eaad83-16cc-4a05-ebe2-6e62c930e89d"
      },
      "execution_count": 37,
      "outputs": [
        {
          "output_type": "execute_result",
          "data": {
            "text/plain": [
              "['3ff7a31452eeabd7a4e07f0d243c674e3d0adf46',\n",
              " '4e32e7efbea85d6f73a1cad6abb9a0863973d433',\n",
              " '9fbc0cc4fe6191cabdddf41124bd507dca08ceb6',\n",
              " 'fd13b9d49c54e00ff413fe3c095ba581c7fc611e',\n",
              " 'a58de017cbeda1763ea002fe027ed41b4ed53109']"
            ]
          },
          "metadata": {},
          "execution_count": 37
        }
      ]
    },
    {
      "cell_type": "code",
      "source": [
        "recommend_count={}\n",
        "for i in range(0,30000):\n",
        "  temp_id=df_train['user_id'][i]\n",
        "  temp_song=df_train['song_id'][i]\n",
        "  if(temp_id==id):\n",
        "    continue\n",
        "  else:\n",
        "    if(temp_song in playlist):\n",
        "      continue\n",
        "    else:\n",
        "      if(recommend_count.get(temp_song) is not None):\n",
        "        recommend_count[temp_song]=recommend_count[temp_song]+df_train[\"count\"][i]\n",
        "      else:\n",
        "        recommend_count[temp_song]=df_train[\"count\"][i]\n",
        "      \n",
        "#sorting for best choices\n",
        "recommended=nlargest(20,recommend_count, key=recommend_count.get)\n",
        "recommended"
      ],
      "metadata": {
        "colab": {
          "base_uri": "https://localhost:8080/"
        },
        "id": "5tk5nYvSgdkn",
        "outputId": "2feb5740-b90e-46e0-f4cf-4c3cabb671da"
      },
      "execution_count": 40,
      "outputs": [
        {
          "output_type": "execute_result",
          "data": {
            "text/plain": [
              "['SOJEUIR12A8C13A5BA',\n",
              " 'SOOVGHO12A8C13AEE9',\n",
              " 'SOVEBCN12A8C13D0A6',\n",
              " 'SOJMREO12A8AE46A65',\n",
              " 'SOJFHAB12AF72AA812',\n",
              " 'SOCLNOB12A8AE48670',\n",
              " 'SOKPKQH12A6701DDE4',\n",
              " 'SODPKNB12AF72ACEBA',\n",
              " 'SOJPDQA12A6D4FA280',\n",
              " 'SOWKQYL12AB0183B15',\n",
              " 'SOKTHPP12A8AE47F2A',\n",
              " 'SOFPNOY12A8C134D40',\n",
              " 'SOPBQKY12AB0182306',\n",
              " 'SOTKWNM12A8C145B71',\n",
              " 'SOGYKBJ12AB017E69C',\n",
              " 'SOVKTEK12AB0185DA2',\n",
              " 'SOQSUMQ12AB01821F7',\n",
              " 'SOVOBHS12A67AE0436',\n",
              " 'SONHWUN12AC468C014',\n",
              " 'SOPAOQL12A6D4F9EC2']"
            ]
          },
          "metadata": {},
          "execution_count": 40
        }
      ]
    },
    {
      "cell_type": "code",
      "source": [
        "def intersection(lst1, lst2):\n",
        "    lst3 = [value for value in lst1 if value in lst2]\n",
        "    return lst3\n",
        "uniqueness=intersection(playlist,recommended)"
      ],
      "metadata": {
        "id": "WmnJ6_w50iyh"
      },
      "execution_count": 42,
      "outputs": []
    },
    {
      "cell_type": "code",
      "source": [
        "uniqueness"
      ],
      "metadata": {
        "colab": {
          "base_uri": "https://localhost:8080/"
        },
        "id": "g2fltoGZ0oDL",
        "outputId": "89b3d55f-8c09-484f-e7d4-c58df17642bd"
      },
      "execution_count": 43,
      "outputs": [
        {
          "output_type": "execute_result",
          "data": {
            "text/plain": [
              "[]"
            ]
          },
          "metadata": {},
          "execution_count": 43
        }
      ]
    },
    {
      "cell_type": "code",
      "source": [
        ""
      ],
      "metadata": {
        "id": "hCTY_BDo0wel"
      },
      "execution_count": null,
      "outputs": []
    }
  ]
}