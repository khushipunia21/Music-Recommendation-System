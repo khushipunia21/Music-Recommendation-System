{
  "nbformat": 4,
  "nbformat_minor": 0,
  "metadata": {
    "colab": {
      "name": "Music Recommendation System.ipynb",
      "provenance": [],
      "collapsed_sections": []
    },
    "kernelspec": {
      "name": "python3",
      "display_name": "Python 3"
    },
    "language_info": {
      "name": "python"
    }
  },
  "cells": [
    {
      "cell_type": "code",
      "source": [
        ""
      ],
      "metadata": {
        "id": "pisVE566DTb-"
      },
      "execution_count": null,
      "outputs": []
    },
    {
      "cell_type": "code",
      "execution_count": null,
      "metadata": {
        "id": "OAQtX0ru3ui8"
      },
      "outputs": [],
      "source": [
        "import matplotlib.pyplot as plt\n",
        "import seaborn as sns\n",
        "import numpy as np\n",
        "import pandas as pd\n"
      ]
    },
    {
      "cell_type": "code",
      "source": [
        "data = pd.read_csv('/content/drive/MyDrive/genres_v2.csv')\n",
        "data\n"
      ],
      "metadata": {
        "colab": {
          "base_uri": "https://localhost:8080/",
          "height": 800
        },
        "id": "6x7lbwWD5Dl-",
        "outputId": "515ef2fe-b3c4-4659-837c-58880d51b8c4"
      },
      "execution_count": null,
      "outputs": [
        {
          "output_type": "stream",
          "name": "stderr",
          "text": [
            "/usr/local/lib/python3.7/dist-packages/IPython/core/interactiveshell.py:2882: DtypeWarning: Columns (19) have mixed types.Specify dtype option on import or set low_memory=False.\n",
            "  exec(code_obj, self.user_global_ns, self.user_ns)\n"
          ]
        },
        {
          "output_type": "execute_result",
          "data": {
            "text/plain": [
              "       danceability  energy  key  loudness  mode  speechiness  acousticness  \\\n",
              "0             0.831   0.814    2    -7.364     1       0.4200      0.059800   \n",
              "1             0.719   0.493    8    -7.230     1       0.0794      0.401000   \n",
              "2             0.850   0.893    5    -4.783     1       0.0623      0.013800   \n",
              "3             0.476   0.781    0    -4.710     1       0.1030      0.023700   \n",
              "4             0.798   0.624    2    -7.668     1       0.2930      0.217000   \n",
              "...             ...     ...  ...       ...   ...          ...           ...   \n",
              "42300         0.528   0.693    4    -5.148     1       0.0304      0.031500   \n",
              "42301         0.517   0.768    0    -7.922     0       0.0479      0.022500   \n",
              "42302         0.361   0.821    8    -3.102     1       0.0505      0.026000   \n",
              "42303         0.477   0.921    6    -4.777     0       0.0392      0.000551   \n",
              "42304         0.529   0.945    9    -5.862     1       0.0615      0.001890   \n",
              "\n",
              "       instrumentalness  liveness  valence  ...                      id  \\\n",
              "0              0.013400    0.0556   0.3890  ...  2Vc6NJ9PW9gD9q343XFRKx   \n",
              "1              0.000000    0.1180   0.1240  ...  7pgJBLVz5VmnL7uGHmRj6p   \n",
              "2              0.000004    0.3720   0.0391  ...  0vSWgAlfpye0WCGeNmuNhy   \n",
              "3              0.000000    0.1140   0.1750  ...  0VSXnJqQkwuH2ei1nOQ1nu   \n",
              "4              0.000000    0.1660   0.5910  ...  4jCeguq9rMTlbMmPHuO7S3   \n",
              "...                 ...       ...      ...  ...                     ...   \n",
              "42300          0.000345    0.1210   0.3940  ...  46bXU7Sgj7104ZoXxzz9tM   \n",
              "42301          0.000018    0.2050   0.3830  ...  0he2ViGMUO3ajKTxLOfWVT   \n",
              "42302          0.000242    0.3850   0.1240  ...  72DAt9Lbpy9EUS29OzQLob   \n",
              "42303          0.029600    0.0575   0.4880  ...  6HXgExFVuE1c3cq9QjFCcU   \n",
              "42304          0.000055    0.4140   0.1340  ...  6MAAMZImxcvYhRnxDLTufD   \n",
              "\n",
              "                                        uri  \\\n",
              "0      spotify:track:2Vc6NJ9PW9gD9q343XFRKx   \n",
              "1      spotify:track:7pgJBLVz5VmnL7uGHmRj6p   \n",
              "2      spotify:track:0vSWgAlfpye0WCGeNmuNhy   \n",
              "3      spotify:track:0VSXnJqQkwuH2ei1nOQ1nu   \n",
              "4      spotify:track:4jCeguq9rMTlbMmPHuO7S3   \n",
              "...                                     ...   \n",
              "42300  spotify:track:46bXU7Sgj7104ZoXxzz9tM   \n",
              "42301  spotify:track:0he2ViGMUO3ajKTxLOfWVT   \n",
              "42302  spotify:track:72DAt9Lbpy9EUS29OzQLob   \n",
              "42303  spotify:track:6HXgExFVuE1c3cq9QjFCcU   \n",
              "42304  spotify:track:6MAAMZImxcvYhRnxDLTufD   \n",
              "\n",
              "                                              track_href  \\\n",
              "0      https://api.spotify.com/v1/tracks/2Vc6NJ9PW9gD...   \n",
              "1      https://api.spotify.com/v1/tracks/7pgJBLVz5Vmn...   \n",
              "2      https://api.spotify.com/v1/tracks/0vSWgAlfpye0...   \n",
              "3      https://api.spotify.com/v1/tracks/0VSXnJqQkwuH...   \n",
              "4      https://api.spotify.com/v1/tracks/4jCeguq9rMTl...   \n",
              "...                                                  ...   \n",
              "42300  https://api.spotify.com/v1/tracks/46bXU7Sgj710...   \n",
              "42301  https://api.spotify.com/v1/tracks/0he2ViGMUO3a...   \n",
              "42302  https://api.spotify.com/v1/tracks/72DAt9Lbpy9E...   \n",
              "42303  https://api.spotify.com/v1/tracks/6HXgExFVuE1c...   \n",
              "42304  https://api.spotify.com/v1/tracks/6MAAMZImxcvY...   \n",
              "\n",
              "                                            analysis_url duration_ms  \\\n",
              "0      https://api.spotify.com/v1/audio-analysis/2Vc6...      124539   \n",
              "1      https://api.spotify.com/v1/audio-analysis/7pgJ...      224427   \n",
              "2      https://api.spotify.com/v1/audio-analysis/0vSW...       98821   \n",
              "3      https://api.spotify.com/v1/audio-analysis/0VSX...      123661   \n",
              "4      https://api.spotify.com/v1/audio-analysis/4jCe...      123298   \n",
              "...                                                  ...         ...   \n",
              "42300  https://api.spotify.com/v1/audio-analysis/46bX...      269208   \n",
              "42301  https://api.spotify.com/v1/audio-analysis/0he2...      210112   \n",
              "42302  https://api.spotify.com/v1/audio-analysis/72DA...      234823   \n",
              "42303  https://api.spotify.com/v1/audio-analysis/6HXg...      323200   \n",
              "42304  https://api.spotify.com/v1/audio-analysis/6MAA...      162161   \n",
              "\n",
              "      time_signature      genre  \\\n",
              "0                  4  Dark Trap   \n",
              "1                  4  Dark Trap   \n",
              "2                  4  Dark Trap   \n",
              "3                  3  Dark Trap   \n",
              "4                  4  Dark Trap   \n",
              "...              ...        ...   \n",
              "42300              4  hardstyle   \n",
              "42301              4  hardstyle   \n",
              "42302              4  hardstyle   \n",
              "42303              4  hardstyle   \n",
              "42304              4  hardstyle   \n",
              "\n",
              "                                           song_name Unnamed: 0  \\\n",
              "0                                Mercury: Retrograde        NaN   \n",
              "1                                          Pathology        NaN   \n",
              "2                                           Symbiote        NaN   \n",
              "3      ProductOfDrugs (Prod. The Virus and Antidote)        NaN   \n",
              "4                                              Venom        NaN   \n",
              "...                                              ...        ...   \n",
              "42300                                            NaN    20995.0   \n",
              "42301                                            NaN    20996.0   \n",
              "42302                                            NaN    20997.0   \n",
              "42303                                            NaN    20998.0   \n",
              "42304                                            NaN    20999.0   \n",
              "\n",
              "                             title  \n",
              "0                              NaN  \n",
              "1                              NaN  \n",
              "2                              NaN  \n",
              "3                              NaN  \n",
              "4                              NaN  \n",
              "...                            ...  \n",
              "42300           Euphoric Hardstyle  \n",
              "42301  Greatest Hardstyle Playlist  \n",
              "42302       Best of Hardstyle 2020  \n",
              "42303           Euphoric Hardstyle  \n",
              "42304       Best of Hardstyle 2020  \n",
              "\n",
              "[42305 rows x 22 columns]"
            ],
            "text/html": [
              "\n",
              "  <div id=\"df-ee06a4e5-a07b-47dc-8410-de7e4c754adf\">\n",
              "    <div class=\"colab-df-container\">\n",
              "      <div>\n",
              "<style scoped>\n",
              "    .dataframe tbody tr th:only-of-type {\n",
              "        vertical-align: middle;\n",
              "    }\n",
              "\n",
              "    .dataframe tbody tr th {\n",
              "        vertical-align: top;\n",
              "    }\n",
              "\n",
              "    .dataframe thead th {\n",
              "        text-align: right;\n",
              "    }\n",
              "</style>\n",
              "<table border=\"1\" class=\"dataframe\">\n",
              "  <thead>\n",
              "    <tr style=\"text-align: right;\">\n",
              "      <th></th>\n",
              "      <th>danceability</th>\n",
              "      <th>energy</th>\n",
              "      <th>key</th>\n",
              "      <th>loudness</th>\n",
              "      <th>mode</th>\n",
              "      <th>speechiness</th>\n",
              "      <th>acousticness</th>\n",
              "      <th>instrumentalness</th>\n",
              "      <th>liveness</th>\n",
              "      <th>valence</th>\n",
              "      <th>...</th>\n",
              "      <th>id</th>\n",
              "      <th>uri</th>\n",
              "      <th>track_href</th>\n",
              "      <th>analysis_url</th>\n",
              "      <th>duration_ms</th>\n",
              "      <th>time_signature</th>\n",
              "      <th>genre</th>\n",
              "      <th>song_name</th>\n",
              "      <th>Unnamed: 0</th>\n",
              "      <th>title</th>\n",
              "    </tr>\n",
              "  </thead>\n",
              "  <tbody>\n",
              "    <tr>\n",
              "      <th>0</th>\n",
              "      <td>0.831</td>\n",
              "      <td>0.814</td>\n",
              "      <td>2</td>\n",
              "      <td>-7.364</td>\n",
              "      <td>1</td>\n",
              "      <td>0.4200</td>\n",
              "      <td>0.059800</td>\n",
              "      <td>0.013400</td>\n",
              "      <td>0.0556</td>\n",
              "      <td>0.3890</td>\n",
              "      <td>...</td>\n",
              "      <td>2Vc6NJ9PW9gD9q343XFRKx</td>\n",
              "      <td>spotify:track:2Vc6NJ9PW9gD9q343XFRKx</td>\n",
              "      <td>https://api.spotify.com/v1/tracks/2Vc6NJ9PW9gD...</td>\n",
              "      <td>https://api.spotify.com/v1/audio-analysis/2Vc6...</td>\n",
              "      <td>124539</td>\n",
              "      <td>4</td>\n",
              "      <td>Dark Trap</td>\n",
              "      <td>Mercury: Retrograde</td>\n",
              "      <td>NaN</td>\n",
              "      <td>NaN</td>\n",
              "    </tr>\n",
              "    <tr>\n",
              "      <th>1</th>\n",
              "      <td>0.719</td>\n",
              "      <td>0.493</td>\n",
              "      <td>8</td>\n",
              "      <td>-7.230</td>\n",
              "      <td>1</td>\n",
              "      <td>0.0794</td>\n",
              "      <td>0.401000</td>\n",
              "      <td>0.000000</td>\n",
              "      <td>0.1180</td>\n",
              "      <td>0.1240</td>\n",
              "      <td>...</td>\n",
              "      <td>7pgJBLVz5VmnL7uGHmRj6p</td>\n",
              "      <td>spotify:track:7pgJBLVz5VmnL7uGHmRj6p</td>\n",
              "      <td>https://api.spotify.com/v1/tracks/7pgJBLVz5Vmn...</td>\n",
              "      <td>https://api.spotify.com/v1/audio-analysis/7pgJ...</td>\n",
              "      <td>224427</td>\n",
              "      <td>4</td>\n",
              "      <td>Dark Trap</td>\n",
              "      <td>Pathology</td>\n",
              "      <td>NaN</td>\n",
              "      <td>NaN</td>\n",
              "    </tr>\n",
              "    <tr>\n",
              "      <th>2</th>\n",
              "      <td>0.850</td>\n",
              "      <td>0.893</td>\n",
              "      <td>5</td>\n",
              "      <td>-4.783</td>\n",
              "      <td>1</td>\n",
              "      <td>0.0623</td>\n",
              "      <td>0.013800</td>\n",
              "      <td>0.000004</td>\n",
              "      <td>0.3720</td>\n",
              "      <td>0.0391</td>\n",
              "      <td>...</td>\n",
              "      <td>0vSWgAlfpye0WCGeNmuNhy</td>\n",
              "      <td>spotify:track:0vSWgAlfpye0WCGeNmuNhy</td>\n",
              "      <td>https://api.spotify.com/v1/tracks/0vSWgAlfpye0...</td>\n",
              "      <td>https://api.spotify.com/v1/audio-analysis/0vSW...</td>\n",
              "      <td>98821</td>\n",
              "      <td>4</td>\n",
              "      <td>Dark Trap</td>\n",
              "      <td>Symbiote</td>\n",
              "      <td>NaN</td>\n",
              "      <td>NaN</td>\n",
              "    </tr>\n",
              "    <tr>\n",
              "      <th>3</th>\n",
              "      <td>0.476</td>\n",
              "      <td>0.781</td>\n",
              "      <td>0</td>\n",
              "      <td>-4.710</td>\n",
              "      <td>1</td>\n",
              "      <td>0.1030</td>\n",
              "      <td>0.023700</td>\n",
              "      <td>0.000000</td>\n",
              "      <td>0.1140</td>\n",
              "      <td>0.1750</td>\n",
              "      <td>...</td>\n",
              "      <td>0VSXnJqQkwuH2ei1nOQ1nu</td>\n",
              "      <td>spotify:track:0VSXnJqQkwuH2ei1nOQ1nu</td>\n",
              "      <td>https://api.spotify.com/v1/tracks/0VSXnJqQkwuH...</td>\n",
              "      <td>https://api.spotify.com/v1/audio-analysis/0VSX...</td>\n",
              "      <td>123661</td>\n",
              "      <td>3</td>\n",
              "      <td>Dark Trap</td>\n",
              "      <td>ProductOfDrugs (Prod. The Virus and Antidote)</td>\n",
              "      <td>NaN</td>\n",
              "      <td>NaN</td>\n",
              "    </tr>\n",
              "    <tr>\n",
              "      <th>4</th>\n",
              "      <td>0.798</td>\n",
              "      <td>0.624</td>\n",
              "      <td>2</td>\n",
              "      <td>-7.668</td>\n",
              "      <td>1</td>\n",
              "      <td>0.2930</td>\n",
              "      <td>0.217000</td>\n",
              "      <td>0.000000</td>\n",
              "      <td>0.1660</td>\n",
              "      <td>0.5910</td>\n",
              "      <td>...</td>\n",
              "      <td>4jCeguq9rMTlbMmPHuO7S3</td>\n",
              "      <td>spotify:track:4jCeguq9rMTlbMmPHuO7S3</td>\n",
              "      <td>https://api.spotify.com/v1/tracks/4jCeguq9rMTl...</td>\n",
              "      <td>https://api.spotify.com/v1/audio-analysis/4jCe...</td>\n",
              "      <td>123298</td>\n",
              "      <td>4</td>\n",
              "      <td>Dark Trap</td>\n",
              "      <td>Venom</td>\n",
              "      <td>NaN</td>\n",
              "      <td>NaN</td>\n",
              "    </tr>\n",
              "    <tr>\n",
              "      <th>...</th>\n",
              "      <td>...</td>\n",
              "      <td>...</td>\n",
              "      <td>...</td>\n",
              "      <td>...</td>\n",
              "      <td>...</td>\n",
              "      <td>...</td>\n",
              "      <td>...</td>\n",
              "      <td>...</td>\n",
              "      <td>...</td>\n",
              "      <td>...</td>\n",
              "      <td>...</td>\n",
              "      <td>...</td>\n",
              "      <td>...</td>\n",
              "      <td>...</td>\n",
              "      <td>...</td>\n",
              "      <td>...</td>\n",
              "      <td>...</td>\n",
              "      <td>...</td>\n",
              "      <td>...</td>\n",
              "      <td>...</td>\n",
              "      <td>...</td>\n",
              "    </tr>\n",
              "    <tr>\n",
              "      <th>42300</th>\n",
              "      <td>0.528</td>\n",
              "      <td>0.693</td>\n",
              "      <td>4</td>\n",
              "      <td>-5.148</td>\n",
              "      <td>1</td>\n",
              "      <td>0.0304</td>\n",
              "      <td>0.031500</td>\n",
              "      <td>0.000345</td>\n",
              "      <td>0.1210</td>\n",
              "      <td>0.3940</td>\n",
              "      <td>...</td>\n",
              "      <td>46bXU7Sgj7104ZoXxzz9tM</td>\n",
              "      <td>spotify:track:46bXU7Sgj7104ZoXxzz9tM</td>\n",
              "      <td>https://api.spotify.com/v1/tracks/46bXU7Sgj710...</td>\n",
              "      <td>https://api.spotify.com/v1/audio-analysis/46bX...</td>\n",
              "      <td>269208</td>\n",
              "      <td>4</td>\n",
              "      <td>hardstyle</td>\n",
              "      <td>NaN</td>\n",
              "      <td>20995.0</td>\n",
              "      <td>Euphoric Hardstyle</td>\n",
              "    </tr>\n",
              "    <tr>\n",
              "      <th>42301</th>\n",
              "      <td>0.517</td>\n",
              "      <td>0.768</td>\n",
              "      <td>0</td>\n",
              "      <td>-7.922</td>\n",
              "      <td>0</td>\n",
              "      <td>0.0479</td>\n",
              "      <td>0.022500</td>\n",
              "      <td>0.000018</td>\n",
              "      <td>0.2050</td>\n",
              "      <td>0.3830</td>\n",
              "      <td>...</td>\n",
              "      <td>0he2ViGMUO3ajKTxLOfWVT</td>\n",
              "      <td>spotify:track:0he2ViGMUO3ajKTxLOfWVT</td>\n",
              "      <td>https://api.spotify.com/v1/tracks/0he2ViGMUO3a...</td>\n",
              "      <td>https://api.spotify.com/v1/audio-analysis/0he2...</td>\n",
              "      <td>210112</td>\n",
              "      <td>4</td>\n",
              "      <td>hardstyle</td>\n",
              "      <td>NaN</td>\n",
              "      <td>20996.0</td>\n",
              "      <td>Greatest Hardstyle Playlist</td>\n",
              "    </tr>\n",
              "    <tr>\n",
              "      <th>42302</th>\n",
              "      <td>0.361</td>\n",
              "      <td>0.821</td>\n",
              "      <td>8</td>\n",
              "      <td>-3.102</td>\n",
              "      <td>1</td>\n",
              "      <td>0.0505</td>\n",
              "      <td>0.026000</td>\n",
              "      <td>0.000242</td>\n",
              "      <td>0.3850</td>\n",
              "      <td>0.1240</td>\n",
              "      <td>...</td>\n",
              "      <td>72DAt9Lbpy9EUS29OzQLob</td>\n",
              "      <td>spotify:track:72DAt9Lbpy9EUS29OzQLob</td>\n",
              "      <td>https://api.spotify.com/v1/tracks/72DAt9Lbpy9E...</td>\n",
              "      <td>https://api.spotify.com/v1/audio-analysis/72DA...</td>\n",
              "      <td>234823</td>\n",
              "      <td>4</td>\n",
              "      <td>hardstyle</td>\n",
              "      <td>NaN</td>\n",
              "      <td>20997.0</td>\n",
              "      <td>Best of Hardstyle 2020</td>\n",
              "    </tr>\n",
              "    <tr>\n",
              "      <th>42303</th>\n",
              "      <td>0.477</td>\n",
              "      <td>0.921</td>\n",
              "      <td>6</td>\n",
              "      <td>-4.777</td>\n",
              "      <td>0</td>\n",
              "      <td>0.0392</td>\n",
              "      <td>0.000551</td>\n",
              "      <td>0.029600</td>\n",
              "      <td>0.0575</td>\n",
              "      <td>0.4880</td>\n",
              "      <td>...</td>\n",
              "      <td>6HXgExFVuE1c3cq9QjFCcU</td>\n",
              "      <td>spotify:track:6HXgExFVuE1c3cq9QjFCcU</td>\n",
              "      <td>https://api.spotify.com/v1/tracks/6HXgExFVuE1c...</td>\n",
              "      <td>https://api.spotify.com/v1/audio-analysis/6HXg...</td>\n",
              "      <td>323200</td>\n",
              "      <td>4</td>\n",
              "      <td>hardstyle</td>\n",
              "      <td>NaN</td>\n",
              "      <td>20998.0</td>\n",
              "      <td>Euphoric Hardstyle</td>\n",
              "    </tr>\n",
              "    <tr>\n",
              "      <th>42304</th>\n",
              "      <td>0.529</td>\n",
              "      <td>0.945</td>\n",
              "      <td>9</td>\n",
              "      <td>-5.862</td>\n",
              "      <td>1</td>\n",
              "      <td>0.0615</td>\n",
              "      <td>0.001890</td>\n",
              "      <td>0.000055</td>\n",
              "      <td>0.4140</td>\n",
              "      <td>0.1340</td>\n",
              "      <td>...</td>\n",
              "      <td>6MAAMZImxcvYhRnxDLTufD</td>\n",
              "      <td>spotify:track:6MAAMZImxcvYhRnxDLTufD</td>\n",
              "      <td>https://api.spotify.com/v1/tracks/6MAAMZImxcvY...</td>\n",
              "      <td>https://api.spotify.com/v1/audio-analysis/6MAA...</td>\n",
              "      <td>162161</td>\n",
              "      <td>4</td>\n",
              "      <td>hardstyle</td>\n",
              "      <td>NaN</td>\n",
              "      <td>20999.0</td>\n",
              "      <td>Best of Hardstyle 2020</td>\n",
              "    </tr>\n",
              "  </tbody>\n",
              "</table>\n",
              "<p>42305 rows × 22 columns</p>\n",
              "</div>\n",
              "      <button class=\"colab-df-convert\" onclick=\"convertToInteractive('df-ee06a4e5-a07b-47dc-8410-de7e4c754adf')\"\n",
              "              title=\"Convert this dataframe to an interactive table.\"\n",
              "              style=\"display:none;\">\n",
              "        \n",
              "  <svg xmlns=\"http://www.w3.org/2000/svg\" height=\"24px\"viewBox=\"0 0 24 24\"\n",
              "       width=\"24px\">\n",
              "    <path d=\"M0 0h24v24H0V0z\" fill=\"none\"/>\n",
              "    <path d=\"M18.56 5.44l.94 2.06.94-2.06 2.06-.94-2.06-.94-.94-2.06-.94 2.06-2.06.94zm-11 1L8.5 8.5l.94-2.06 2.06-.94-2.06-.94L8.5 2.5l-.94 2.06-2.06.94zm10 10l.94 2.06.94-2.06 2.06-.94-2.06-.94-.94-2.06-.94 2.06-2.06.94z\"/><path d=\"M17.41 7.96l-1.37-1.37c-.4-.4-.92-.59-1.43-.59-.52 0-1.04.2-1.43.59L10.3 9.45l-7.72 7.72c-.78.78-.78 2.05 0 2.83L4 21.41c.39.39.9.59 1.41.59.51 0 1.02-.2 1.41-.59l7.78-7.78 2.81-2.81c.8-.78.8-2.07 0-2.86zM5.41 20L4 18.59l7.72-7.72 1.47 1.35L5.41 20z\"/>\n",
              "  </svg>\n",
              "      </button>\n",
              "      \n",
              "  <style>\n",
              "    .colab-df-container {\n",
              "      display:flex;\n",
              "      flex-wrap:wrap;\n",
              "      gap: 12px;\n",
              "    }\n",
              "\n",
              "    .colab-df-convert {\n",
              "      background-color: #E8F0FE;\n",
              "      border: none;\n",
              "      border-radius: 50%;\n",
              "      cursor: pointer;\n",
              "      display: none;\n",
              "      fill: #1967D2;\n",
              "      height: 32px;\n",
              "      padding: 0 0 0 0;\n",
              "      width: 32px;\n",
              "    }\n",
              "\n",
              "    .colab-df-convert:hover {\n",
              "      background-color: #E2EBFA;\n",
              "      box-shadow: 0px 1px 2px rgba(60, 64, 67, 0.3), 0px 1px 3px 1px rgba(60, 64, 67, 0.15);\n",
              "      fill: #174EA6;\n",
              "    }\n",
              "\n",
              "    [theme=dark] .colab-df-convert {\n",
              "      background-color: #3B4455;\n",
              "      fill: #D2E3FC;\n",
              "    }\n",
              "\n",
              "    [theme=dark] .colab-df-convert:hover {\n",
              "      background-color: #434B5C;\n",
              "      box-shadow: 0px 1px 3px 1px rgba(0, 0, 0, 0.15);\n",
              "      filter: drop-shadow(0px 1px 2px rgba(0, 0, 0, 0.3));\n",
              "      fill: #FFFFFF;\n",
              "    }\n",
              "  </style>\n",
              "\n",
              "      <script>\n",
              "        const buttonEl =\n",
              "          document.querySelector('#df-ee06a4e5-a07b-47dc-8410-de7e4c754adf button.colab-df-convert');\n",
              "        buttonEl.style.display =\n",
              "          google.colab.kernel.accessAllowed ? 'block' : 'none';\n",
              "\n",
              "        async function convertToInteractive(key) {\n",
              "          const element = document.querySelector('#df-ee06a4e5-a07b-47dc-8410-de7e4c754adf');\n",
              "          const dataTable =\n",
              "            await google.colab.kernel.invokeFunction('convertToInteractive',\n",
              "                                                     [key], {});\n",
              "          if (!dataTable) return;\n",
              "\n",
              "          const docLinkHtml = 'Like what you see? Visit the ' +\n",
              "            '<a target=\"_blank\" href=https://colab.research.google.com/notebooks/data_table.ipynb>data table notebook</a>'\n",
              "            + ' to learn more about interactive tables.';\n",
              "          element.innerHTML = '';\n",
              "          dataTable['output_type'] = 'display_data';\n",
              "          await google.colab.output.renderOutput(dataTable, element);\n",
              "          const docLink = document.createElement('div');\n",
              "          docLink.innerHTML = docLinkHtml;\n",
              "          element.appendChild(docLink);\n",
              "        }\n",
              "      </script>\n",
              "    </div>\n",
              "  </div>\n",
              "  "
            ]
          },
          "metadata": {},
          "execution_count": 2
        }
      ]
    },
    {
      "cell_type": "code",
      "source": [
        "data['analysis_url'][5]"
      ],
      "metadata": {
        "id": "mrVvpqmvBmXl",
        "colab": {
          "base_uri": "https://localhost:8080/",
          "height": 36
        },
        "outputId": "784ebbce-d861-4208-d7a7-9fe76a4a3734"
      },
      "execution_count": null,
      "outputs": [
        {
          "output_type": "execute_result",
          "data": {
            "text/plain": [
              "'https://api.spotify.com/v1/audio-analysis/6fsypiJHyWmeINsOLC1cos'"
            ],
            "application/vnd.google.colaboratory.intrinsic+json": {
              "type": "string"
            }
          },
          "metadata": {},
          "execution_count": 5
        }
      ]
    },
    {
      "cell_type": "code",
      "source": [
        ""
      ],
      "metadata": {
        "id": "ZNmm0C2iEVLF"
      },
      "execution_count": null,
      "outputs": []
    },
    {
      "cell_type": "code",
      "source": [
        "# imports\n",
        "import numpy as np\n",
        "import pandas as pd\n",
        "import matplotlib.pyplot as plt\n",
        "import seaborn as se\n",
        "import warnings\n",
        "from sklearn.model_selection import train_test_split\n",
        "from sklearn.preprocessing import LabelEncoder\n",
        "from sklearn.metrics import classification_report,plot_confusion_matrix\n",
        "warnings.filterwarnings('ignore')\n",
        "from sklearn.preprocessing import MinMaxScaler\n",
        "from sklearn.feature_selection import SelectKBest,f_regression,f_classif\n",
        "from sklearn.preprocessing import MinMaxScaler\n",
        "from sklearn.preprocessing import PolynomialFeatures\n",
        "from sklearn.neighbors import KNeighborsClassifier\n"
      ],
      "metadata": {
        "id": "YRiZh-8b5IRp"
      },
      "execution_count": null,
      "outputs": []
    },
    {
      "cell_type": "code",
      "source": [
        "feat=['danceability','energy','key','loudness','mode','speechiness','acousticness','instrumentalness','liveness','valence','song_name','genre']\n",
        "tempo=data[feat]\n",
        "tempo.dropna(axis=0,inplace=True)\n",
        "tempo"
      ],
      "metadata": {
        "colab": {
          "base_uri": "https://localhost:8080/",
          "height": 424
        },
        "id": "Dzbxnnd_Ce0Z",
        "outputId": "6c630968-6681-47c2-abc2-d1c5766a3e03"
      },
      "execution_count": null,
      "outputs": [
        {
          "output_type": "execute_result",
          "data": {
            "text/plain": [
              "       danceability  energy  key  loudness  mode  speechiness  acousticness  \\\n",
              "0             0.831   0.814    2    -7.364     1       0.4200       0.05980   \n",
              "1             0.719   0.493    8    -7.230     1       0.0794       0.40100   \n",
              "2             0.850   0.893    5    -4.783     1       0.0623       0.01380   \n",
              "3             0.476   0.781    0    -4.710     1       0.1030       0.02370   \n",
              "4             0.798   0.624    2    -7.668     1       0.2930       0.21700   \n",
              "...             ...     ...  ...       ...   ...          ...           ...   \n",
              "21520         0.538   0.819    1    -6.780     1       0.4670       0.00854   \n",
              "21521         0.415   0.548    7    -8.563     1       0.2850       0.22400   \n",
              "21522         0.785   0.648    7    -6.907     1       0.2790       0.01570   \n",
              "21523         0.747   0.832    3    -5.737     0       0.1850       0.23300   \n",
              "21524         0.816   0.775   11    -3.323     1       0.2340       0.16000   \n",
              "\n",
              "       instrumentalness  liveness  valence  \\\n",
              "0              0.013400    0.0556   0.3890   \n",
              "1              0.000000    0.1180   0.1240   \n",
              "2              0.000004    0.3720   0.0391   \n",
              "3              0.000000    0.1140   0.1750   \n",
              "4              0.000000    0.1660   0.5910   \n",
              "...                 ...       ...      ...   \n",
              "21520          0.000000    0.1310   0.2520   \n",
              "21521          0.000000    0.1220   0.5280   \n",
              "21522          0.001980    0.1000   0.5060   \n",
              "21523          0.000014    0.1300   0.7330   \n",
              "21524          0.000310    0.0543   0.5270   \n",
              "\n",
              "                                           song_name      genre  \n",
              "0                                Mercury: Retrograde  Dark Trap  \n",
              "1                                          Pathology  Dark Trap  \n",
              "2                                           Symbiote  Dark Trap  \n",
              "3      ProductOfDrugs (Prod. The Virus and Antidote)  Dark Trap  \n",
              "4                                              Venom  Dark Trap  \n",
              "...                                              ...        ...  \n",
              "21520                                   Daddy's Girl     Hiphop  \n",
              "21521                                            '94     Hiphop  \n",
              "21522                                    Born 2 Live     Hiphop  \n",
              "21523                                  Can't Hold On     Hiphop  \n",
              "21524                                   Still D.R.E.     Hiphop  \n",
              "\n",
              "[21519 rows x 12 columns]"
            ],
            "text/html": [
              "\n",
              "  <div id=\"df-278ea6d6-e190-4cca-8422-0b38b5800f2d\">\n",
              "    <div class=\"colab-df-container\">\n",
              "      <div>\n",
              "<style scoped>\n",
              "    .dataframe tbody tr th:only-of-type {\n",
              "        vertical-align: middle;\n",
              "    }\n",
              "\n",
              "    .dataframe tbody tr th {\n",
              "        vertical-align: top;\n",
              "    }\n",
              "\n",
              "    .dataframe thead th {\n",
              "        text-align: right;\n",
              "    }\n",
              "</style>\n",
              "<table border=\"1\" class=\"dataframe\">\n",
              "  <thead>\n",
              "    <tr style=\"text-align: right;\">\n",
              "      <th></th>\n",
              "      <th>danceability</th>\n",
              "      <th>energy</th>\n",
              "      <th>key</th>\n",
              "      <th>loudness</th>\n",
              "      <th>mode</th>\n",
              "      <th>speechiness</th>\n",
              "      <th>acousticness</th>\n",
              "      <th>instrumentalness</th>\n",
              "      <th>liveness</th>\n",
              "      <th>valence</th>\n",
              "      <th>song_name</th>\n",
              "      <th>genre</th>\n",
              "    </tr>\n",
              "  </thead>\n",
              "  <tbody>\n",
              "    <tr>\n",
              "      <th>0</th>\n",
              "      <td>0.831</td>\n",
              "      <td>0.814</td>\n",
              "      <td>2</td>\n",
              "      <td>-7.364</td>\n",
              "      <td>1</td>\n",
              "      <td>0.4200</td>\n",
              "      <td>0.05980</td>\n",
              "      <td>0.013400</td>\n",
              "      <td>0.0556</td>\n",
              "      <td>0.3890</td>\n",
              "      <td>Mercury: Retrograde</td>\n",
              "      <td>Dark Trap</td>\n",
              "    </tr>\n",
              "    <tr>\n",
              "      <th>1</th>\n",
              "      <td>0.719</td>\n",
              "      <td>0.493</td>\n",
              "      <td>8</td>\n",
              "      <td>-7.230</td>\n",
              "      <td>1</td>\n",
              "      <td>0.0794</td>\n",
              "      <td>0.40100</td>\n",
              "      <td>0.000000</td>\n",
              "      <td>0.1180</td>\n",
              "      <td>0.1240</td>\n",
              "      <td>Pathology</td>\n",
              "      <td>Dark Trap</td>\n",
              "    </tr>\n",
              "    <tr>\n",
              "      <th>2</th>\n",
              "      <td>0.850</td>\n",
              "      <td>0.893</td>\n",
              "      <td>5</td>\n",
              "      <td>-4.783</td>\n",
              "      <td>1</td>\n",
              "      <td>0.0623</td>\n",
              "      <td>0.01380</td>\n",
              "      <td>0.000004</td>\n",
              "      <td>0.3720</td>\n",
              "      <td>0.0391</td>\n",
              "      <td>Symbiote</td>\n",
              "      <td>Dark Trap</td>\n",
              "    </tr>\n",
              "    <tr>\n",
              "      <th>3</th>\n",
              "      <td>0.476</td>\n",
              "      <td>0.781</td>\n",
              "      <td>0</td>\n",
              "      <td>-4.710</td>\n",
              "      <td>1</td>\n",
              "      <td>0.1030</td>\n",
              "      <td>0.02370</td>\n",
              "      <td>0.000000</td>\n",
              "      <td>0.1140</td>\n",
              "      <td>0.1750</td>\n",
              "      <td>ProductOfDrugs (Prod. The Virus and Antidote)</td>\n",
              "      <td>Dark Trap</td>\n",
              "    </tr>\n",
              "    <tr>\n",
              "      <th>4</th>\n",
              "      <td>0.798</td>\n",
              "      <td>0.624</td>\n",
              "      <td>2</td>\n",
              "      <td>-7.668</td>\n",
              "      <td>1</td>\n",
              "      <td>0.2930</td>\n",
              "      <td>0.21700</td>\n",
              "      <td>0.000000</td>\n",
              "      <td>0.1660</td>\n",
              "      <td>0.5910</td>\n",
              "      <td>Venom</td>\n",
              "      <td>Dark Trap</td>\n",
              "    </tr>\n",
              "    <tr>\n",
              "      <th>...</th>\n",
              "      <td>...</td>\n",
              "      <td>...</td>\n",
              "      <td>...</td>\n",
              "      <td>...</td>\n",
              "      <td>...</td>\n",
              "      <td>...</td>\n",
              "      <td>...</td>\n",
              "      <td>...</td>\n",
              "      <td>...</td>\n",
              "      <td>...</td>\n",
              "      <td>...</td>\n",
              "      <td>...</td>\n",
              "    </tr>\n",
              "    <tr>\n",
              "      <th>21520</th>\n",
              "      <td>0.538</td>\n",
              "      <td>0.819</td>\n",
              "      <td>1</td>\n",
              "      <td>-6.780</td>\n",
              "      <td>1</td>\n",
              "      <td>0.4670</td>\n",
              "      <td>0.00854</td>\n",
              "      <td>0.000000</td>\n",
              "      <td>0.1310</td>\n",
              "      <td>0.2520</td>\n",
              "      <td>Daddy's Girl</td>\n",
              "      <td>Hiphop</td>\n",
              "    </tr>\n",
              "    <tr>\n",
              "      <th>21521</th>\n",
              "      <td>0.415</td>\n",
              "      <td>0.548</td>\n",
              "      <td>7</td>\n",
              "      <td>-8.563</td>\n",
              "      <td>1</td>\n",
              "      <td>0.2850</td>\n",
              "      <td>0.22400</td>\n",
              "      <td>0.000000</td>\n",
              "      <td>0.1220</td>\n",
              "      <td>0.5280</td>\n",
              "      <td>'94</td>\n",
              "      <td>Hiphop</td>\n",
              "    </tr>\n",
              "    <tr>\n",
              "      <th>21522</th>\n",
              "      <td>0.785</td>\n",
              "      <td>0.648</td>\n",
              "      <td>7</td>\n",
              "      <td>-6.907</td>\n",
              "      <td>1</td>\n",
              "      <td>0.2790</td>\n",
              "      <td>0.01570</td>\n",
              "      <td>0.001980</td>\n",
              "      <td>0.1000</td>\n",
              "      <td>0.5060</td>\n",
              "      <td>Born 2 Live</td>\n",
              "      <td>Hiphop</td>\n",
              "    </tr>\n",
              "    <tr>\n",
              "      <th>21523</th>\n",
              "      <td>0.747</td>\n",
              "      <td>0.832</td>\n",
              "      <td>3</td>\n",
              "      <td>-5.737</td>\n",
              "      <td>0</td>\n",
              "      <td>0.1850</td>\n",
              "      <td>0.23300</td>\n",
              "      <td>0.000014</td>\n",
              "      <td>0.1300</td>\n",
              "      <td>0.7330</td>\n",
              "      <td>Can't Hold On</td>\n",
              "      <td>Hiphop</td>\n",
              "    </tr>\n",
              "    <tr>\n",
              "      <th>21524</th>\n",
              "      <td>0.816</td>\n",
              "      <td>0.775</td>\n",
              "      <td>11</td>\n",
              "      <td>-3.323</td>\n",
              "      <td>1</td>\n",
              "      <td>0.2340</td>\n",
              "      <td>0.16000</td>\n",
              "      <td>0.000310</td>\n",
              "      <td>0.0543</td>\n",
              "      <td>0.5270</td>\n",
              "      <td>Still D.R.E.</td>\n",
              "      <td>Hiphop</td>\n",
              "    </tr>\n",
              "  </tbody>\n",
              "</table>\n",
              "<p>21519 rows × 12 columns</p>\n",
              "</div>\n",
              "      <button class=\"colab-df-convert\" onclick=\"convertToInteractive('df-278ea6d6-e190-4cca-8422-0b38b5800f2d')\"\n",
              "              title=\"Convert this dataframe to an interactive table.\"\n",
              "              style=\"display:none;\">\n",
              "        \n",
              "  <svg xmlns=\"http://www.w3.org/2000/svg\" height=\"24px\"viewBox=\"0 0 24 24\"\n",
              "       width=\"24px\">\n",
              "    <path d=\"M0 0h24v24H0V0z\" fill=\"none\"/>\n",
              "    <path d=\"M18.56 5.44l.94 2.06.94-2.06 2.06-.94-2.06-.94-.94-2.06-.94 2.06-2.06.94zm-11 1L8.5 8.5l.94-2.06 2.06-.94-2.06-.94L8.5 2.5l-.94 2.06-2.06.94zm10 10l.94 2.06.94-2.06 2.06-.94-2.06-.94-.94-2.06-.94 2.06-2.06.94z\"/><path d=\"M17.41 7.96l-1.37-1.37c-.4-.4-.92-.59-1.43-.59-.52 0-1.04.2-1.43.59L10.3 9.45l-7.72 7.72c-.78.78-.78 2.05 0 2.83L4 21.41c.39.39.9.59 1.41.59.51 0 1.02-.2 1.41-.59l7.78-7.78 2.81-2.81c.8-.78.8-2.07 0-2.86zM5.41 20L4 18.59l7.72-7.72 1.47 1.35L5.41 20z\"/>\n",
              "  </svg>\n",
              "      </button>\n",
              "      \n",
              "  <style>\n",
              "    .colab-df-container {\n",
              "      display:flex;\n",
              "      flex-wrap:wrap;\n",
              "      gap: 12px;\n",
              "    }\n",
              "\n",
              "    .colab-df-convert {\n",
              "      background-color: #E8F0FE;\n",
              "      border: none;\n",
              "      border-radius: 50%;\n",
              "      cursor: pointer;\n",
              "      display: none;\n",
              "      fill: #1967D2;\n",
              "      height: 32px;\n",
              "      padding: 0 0 0 0;\n",
              "      width: 32px;\n",
              "    }\n",
              "\n",
              "    .colab-df-convert:hover {\n",
              "      background-color: #E2EBFA;\n",
              "      box-shadow: 0px 1px 2px rgba(60, 64, 67, 0.3), 0px 1px 3px 1px rgba(60, 64, 67, 0.15);\n",
              "      fill: #174EA6;\n",
              "    }\n",
              "\n",
              "    [theme=dark] .colab-df-convert {\n",
              "      background-color: #3B4455;\n",
              "      fill: #D2E3FC;\n",
              "    }\n",
              "\n",
              "    [theme=dark] .colab-df-convert:hover {\n",
              "      background-color: #434B5C;\n",
              "      box-shadow: 0px 1px 3px 1px rgba(0, 0, 0, 0.15);\n",
              "      filter: drop-shadow(0px 1px 2px rgba(0, 0, 0, 0.3));\n",
              "      fill: #FFFFFF;\n",
              "    }\n",
              "  </style>\n",
              "\n",
              "      <script>\n",
              "        const buttonEl =\n",
              "          document.querySelector('#df-278ea6d6-e190-4cca-8422-0b38b5800f2d button.colab-df-convert');\n",
              "        buttonEl.style.display =\n",
              "          google.colab.kernel.accessAllowed ? 'block' : 'none';\n",
              "\n",
              "        async function convertToInteractive(key) {\n",
              "          const element = document.querySelector('#df-278ea6d6-e190-4cca-8422-0b38b5800f2d');\n",
              "          const dataTable =\n",
              "            await google.colab.kernel.invokeFunction('convertToInteractive',\n",
              "                                                     [key], {});\n",
              "          if (!dataTable) return;\n",
              "\n",
              "          const docLinkHtml = 'Like what you see? Visit the ' +\n",
              "            '<a target=\"_blank\" href=https://colab.research.google.com/notebooks/data_table.ipynb>data table notebook</a>'\n",
              "            + ' to learn more about interactive tables.';\n",
              "          element.innerHTML = '';\n",
              "          dataTable['output_type'] = 'display_data';\n",
              "          await google.colab.output.renderOutput(dataTable, element);\n",
              "          const docLink = document.createElement('div');\n",
              "          docLink.innerHTML = docLinkHtml;\n",
              "          element.appendChild(docLink);\n",
              "        }\n",
              "      </script>\n",
              "    </div>\n",
              "  </div>\n",
              "  "
            ]
          },
          "metadata": {},
          "execution_count": 6
        }
      ]
    },
    {
      "cell_type": "code",
      "source": [
        "# Selected Columns\n",
        "features=['danceability','energy','key','loudness','mode','speechiness','acousticness','instrumentalness','liveness','valence']\n",
        "target='song_name'\n",
        "# X & Y\n",
        "X=tempo[features]\n",
        "Y=tempo[target]\n",
        "X"
      ],
      "metadata": {
        "id": "qdjJj0YARnbI",
        "colab": {
          "base_uri": "https://localhost:8080/",
          "height": 424
        },
        "outputId": "60082212-4299-45cd-8419-928b8a343354"
      },
      "execution_count": null,
      "outputs": [
        {
          "output_type": "execute_result",
          "data": {
            "text/plain": [
              "       danceability  energy  key  loudness  mode  speechiness  acousticness  \\\n",
              "0             0.831   0.814    2    -7.364     1       0.4200       0.05980   \n",
              "1             0.719   0.493    8    -7.230     1       0.0794       0.40100   \n",
              "2             0.850   0.893    5    -4.783     1       0.0623       0.01380   \n",
              "3             0.476   0.781    0    -4.710     1       0.1030       0.02370   \n",
              "4             0.798   0.624    2    -7.668     1       0.2930       0.21700   \n",
              "...             ...     ...  ...       ...   ...          ...           ...   \n",
              "21520         0.538   0.819    1    -6.780     1       0.4670       0.00854   \n",
              "21521         0.415   0.548    7    -8.563     1       0.2850       0.22400   \n",
              "21522         0.785   0.648    7    -6.907     1       0.2790       0.01570   \n",
              "21523         0.747   0.832    3    -5.737     0       0.1850       0.23300   \n",
              "21524         0.816   0.775   11    -3.323     1       0.2340       0.16000   \n",
              "\n",
              "       instrumentalness  liveness  valence  \n",
              "0              0.013400    0.0556   0.3890  \n",
              "1              0.000000    0.1180   0.1240  \n",
              "2              0.000004    0.3720   0.0391  \n",
              "3              0.000000    0.1140   0.1750  \n",
              "4              0.000000    0.1660   0.5910  \n",
              "...                 ...       ...      ...  \n",
              "21520          0.000000    0.1310   0.2520  \n",
              "21521          0.000000    0.1220   0.5280  \n",
              "21522          0.001980    0.1000   0.5060  \n",
              "21523          0.000014    0.1300   0.7330  \n",
              "21524          0.000310    0.0543   0.5270  \n",
              "\n",
              "[21519 rows x 10 columns]"
            ],
            "text/html": [
              "\n",
              "  <div id=\"df-8c4a7a87-ac9d-422d-93e9-0a390cbd25a9\">\n",
              "    <div class=\"colab-df-container\">\n",
              "      <div>\n",
              "<style scoped>\n",
              "    .dataframe tbody tr th:only-of-type {\n",
              "        vertical-align: middle;\n",
              "    }\n",
              "\n",
              "    .dataframe tbody tr th {\n",
              "        vertical-align: top;\n",
              "    }\n",
              "\n",
              "    .dataframe thead th {\n",
              "        text-align: right;\n",
              "    }\n",
              "</style>\n",
              "<table border=\"1\" class=\"dataframe\">\n",
              "  <thead>\n",
              "    <tr style=\"text-align: right;\">\n",
              "      <th></th>\n",
              "      <th>danceability</th>\n",
              "      <th>energy</th>\n",
              "      <th>key</th>\n",
              "      <th>loudness</th>\n",
              "      <th>mode</th>\n",
              "      <th>speechiness</th>\n",
              "      <th>acousticness</th>\n",
              "      <th>instrumentalness</th>\n",
              "      <th>liveness</th>\n",
              "      <th>valence</th>\n",
              "    </tr>\n",
              "  </thead>\n",
              "  <tbody>\n",
              "    <tr>\n",
              "      <th>0</th>\n",
              "      <td>0.831</td>\n",
              "      <td>0.814</td>\n",
              "      <td>2</td>\n",
              "      <td>-7.364</td>\n",
              "      <td>1</td>\n",
              "      <td>0.4200</td>\n",
              "      <td>0.05980</td>\n",
              "      <td>0.013400</td>\n",
              "      <td>0.0556</td>\n",
              "      <td>0.3890</td>\n",
              "    </tr>\n",
              "    <tr>\n",
              "      <th>1</th>\n",
              "      <td>0.719</td>\n",
              "      <td>0.493</td>\n",
              "      <td>8</td>\n",
              "      <td>-7.230</td>\n",
              "      <td>1</td>\n",
              "      <td>0.0794</td>\n",
              "      <td>0.40100</td>\n",
              "      <td>0.000000</td>\n",
              "      <td>0.1180</td>\n",
              "      <td>0.1240</td>\n",
              "    </tr>\n",
              "    <tr>\n",
              "      <th>2</th>\n",
              "      <td>0.850</td>\n",
              "      <td>0.893</td>\n",
              "      <td>5</td>\n",
              "      <td>-4.783</td>\n",
              "      <td>1</td>\n",
              "      <td>0.0623</td>\n",
              "      <td>0.01380</td>\n",
              "      <td>0.000004</td>\n",
              "      <td>0.3720</td>\n",
              "      <td>0.0391</td>\n",
              "    </tr>\n",
              "    <tr>\n",
              "      <th>3</th>\n",
              "      <td>0.476</td>\n",
              "      <td>0.781</td>\n",
              "      <td>0</td>\n",
              "      <td>-4.710</td>\n",
              "      <td>1</td>\n",
              "      <td>0.1030</td>\n",
              "      <td>0.02370</td>\n",
              "      <td>0.000000</td>\n",
              "      <td>0.1140</td>\n",
              "      <td>0.1750</td>\n",
              "    </tr>\n",
              "    <tr>\n",
              "      <th>4</th>\n",
              "      <td>0.798</td>\n",
              "      <td>0.624</td>\n",
              "      <td>2</td>\n",
              "      <td>-7.668</td>\n",
              "      <td>1</td>\n",
              "      <td>0.2930</td>\n",
              "      <td>0.21700</td>\n",
              "      <td>0.000000</td>\n",
              "      <td>0.1660</td>\n",
              "      <td>0.5910</td>\n",
              "    </tr>\n",
              "    <tr>\n",
              "      <th>...</th>\n",
              "      <td>...</td>\n",
              "      <td>...</td>\n",
              "      <td>...</td>\n",
              "      <td>...</td>\n",
              "      <td>...</td>\n",
              "      <td>...</td>\n",
              "      <td>...</td>\n",
              "      <td>...</td>\n",
              "      <td>...</td>\n",
              "      <td>...</td>\n",
              "    </tr>\n",
              "    <tr>\n",
              "      <th>21520</th>\n",
              "      <td>0.538</td>\n",
              "      <td>0.819</td>\n",
              "      <td>1</td>\n",
              "      <td>-6.780</td>\n",
              "      <td>1</td>\n",
              "      <td>0.4670</td>\n",
              "      <td>0.00854</td>\n",
              "      <td>0.000000</td>\n",
              "      <td>0.1310</td>\n",
              "      <td>0.2520</td>\n",
              "    </tr>\n",
              "    <tr>\n",
              "      <th>21521</th>\n",
              "      <td>0.415</td>\n",
              "      <td>0.548</td>\n",
              "      <td>7</td>\n",
              "      <td>-8.563</td>\n",
              "      <td>1</td>\n",
              "      <td>0.2850</td>\n",
              "      <td>0.22400</td>\n",
              "      <td>0.000000</td>\n",
              "      <td>0.1220</td>\n",
              "      <td>0.5280</td>\n",
              "    </tr>\n",
              "    <tr>\n",
              "      <th>21522</th>\n",
              "      <td>0.785</td>\n",
              "      <td>0.648</td>\n",
              "      <td>7</td>\n",
              "      <td>-6.907</td>\n",
              "      <td>1</td>\n",
              "      <td>0.2790</td>\n",
              "      <td>0.01570</td>\n",
              "      <td>0.001980</td>\n",
              "      <td>0.1000</td>\n",
              "      <td>0.5060</td>\n",
              "    </tr>\n",
              "    <tr>\n",
              "      <th>21523</th>\n",
              "      <td>0.747</td>\n",
              "      <td>0.832</td>\n",
              "      <td>3</td>\n",
              "      <td>-5.737</td>\n",
              "      <td>0</td>\n",
              "      <td>0.1850</td>\n",
              "      <td>0.23300</td>\n",
              "      <td>0.000014</td>\n",
              "      <td>0.1300</td>\n",
              "      <td>0.7330</td>\n",
              "    </tr>\n",
              "    <tr>\n",
              "      <th>21524</th>\n",
              "      <td>0.816</td>\n",
              "      <td>0.775</td>\n",
              "      <td>11</td>\n",
              "      <td>-3.323</td>\n",
              "      <td>1</td>\n",
              "      <td>0.2340</td>\n",
              "      <td>0.16000</td>\n",
              "      <td>0.000310</td>\n",
              "      <td>0.0543</td>\n",
              "      <td>0.5270</td>\n",
              "    </tr>\n",
              "  </tbody>\n",
              "</table>\n",
              "<p>21519 rows × 10 columns</p>\n",
              "</div>\n",
              "      <button class=\"colab-df-convert\" onclick=\"convertToInteractive('df-8c4a7a87-ac9d-422d-93e9-0a390cbd25a9')\"\n",
              "              title=\"Convert this dataframe to an interactive table.\"\n",
              "              style=\"display:none;\">\n",
              "        \n",
              "  <svg xmlns=\"http://www.w3.org/2000/svg\" height=\"24px\"viewBox=\"0 0 24 24\"\n",
              "       width=\"24px\">\n",
              "    <path d=\"M0 0h24v24H0V0z\" fill=\"none\"/>\n",
              "    <path d=\"M18.56 5.44l.94 2.06.94-2.06 2.06-.94-2.06-.94-.94-2.06-.94 2.06-2.06.94zm-11 1L8.5 8.5l.94-2.06 2.06-.94-2.06-.94L8.5 2.5l-.94 2.06-2.06.94zm10 10l.94 2.06.94-2.06 2.06-.94-2.06-.94-.94-2.06-.94 2.06-2.06.94z\"/><path d=\"M17.41 7.96l-1.37-1.37c-.4-.4-.92-.59-1.43-.59-.52 0-1.04.2-1.43.59L10.3 9.45l-7.72 7.72c-.78.78-.78 2.05 0 2.83L4 21.41c.39.39.9.59 1.41.59.51 0 1.02-.2 1.41-.59l7.78-7.78 2.81-2.81c.8-.78.8-2.07 0-2.86zM5.41 20L4 18.59l7.72-7.72 1.47 1.35L5.41 20z\"/>\n",
              "  </svg>\n",
              "      </button>\n",
              "      \n",
              "  <style>\n",
              "    .colab-df-container {\n",
              "      display:flex;\n",
              "      flex-wrap:wrap;\n",
              "      gap: 12px;\n",
              "    }\n",
              "\n",
              "    .colab-df-convert {\n",
              "      background-color: #E8F0FE;\n",
              "      border: none;\n",
              "      border-radius: 50%;\n",
              "      cursor: pointer;\n",
              "      display: none;\n",
              "      fill: #1967D2;\n",
              "      height: 32px;\n",
              "      padding: 0 0 0 0;\n",
              "      width: 32px;\n",
              "    }\n",
              "\n",
              "    .colab-df-convert:hover {\n",
              "      background-color: #E2EBFA;\n",
              "      box-shadow: 0px 1px 2px rgba(60, 64, 67, 0.3), 0px 1px 3px 1px rgba(60, 64, 67, 0.15);\n",
              "      fill: #174EA6;\n",
              "    }\n",
              "\n",
              "    [theme=dark] .colab-df-convert {\n",
              "      background-color: #3B4455;\n",
              "      fill: #D2E3FC;\n",
              "    }\n",
              "\n",
              "    [theme=dark] .colab-df-convert:hover {\n",
              "      background-color: #434B5C;\n",
              "      box-shadow: 0px 1px 3px 1px rgba(0, 0, 0, 0.15);\n",
              "      filter: drop-shadow(0px 1px 2px rgba(0, 0, 0, 0.3));\n",
              "      fill: #FFFFFF;\n",
              "    }\n",
              "  </style>\n",
              "\n",
              "      <script>\n",
              "        const buttonEl =\n",
              "          document.querySelector('#df-8c4a7a87-ac9d-422d-93e9-0a390cbd25a9 button.colab-df-convert');\n",
              "        buttonEl.style.display =\n",
              "          google.colab.kernel.accessAllowed ? 'block' : 'none';\n",
              "\n",
              "        async function convertToInteractive(key) {\n",
              "          const element = document.querySelector('#df-8c4a7a87-ac9d-422d-93e9-0a390cbd25a9');\n",
              "          const dataTable =\n",
              "            await google.colab.kernel.invokeFunction('convertToInteractive',\n",
              "                                                     [key], {});\n",
              "          if (!dataTable) return;\n",
              "\n",
              "          const docLinkHtml = 'Like what you see? Visit the ' +\n",
              "            '<a target=\"_blank\" href=https://colab.research.google.com/notebooks/data_table.ipynb>data table notebook</a>'\n",
              "            + ' to learn more about interactive tables.';\n",
              "          element.innerHTML = '';\n",
              "          dataTable['output_type'] = 'display_data';\n",
              "          await google.colab.output.renderOutput(dataTable, element);\n",
              "          const docLink = document.createElement('div');\n",
              "          docLink.innerHTML = docLinkHtml;\n",
              "          element.appendChild(docLink);\n",
              "        }\n",
              "      </script>\n",
              "    </div>\n",
              "  </div>\n",
              "  "
            ]
          },
          "metadata": {},
          "execution_count": 114
        }
      ]
    },
    {
      "cell_type": "code",
      "source": [
        "X_train=X[:19519,:]"
      ],
      "metadata": {
        "id": "AgQAMnYCIAkj"
      },
      "execution_count": null,
      "outputs": []
    },
    {
      "cell_type": "code",
      "source": [
        "def EncodeY(Y):\n",
        "\tactual_target=np.sort(pd.unique(Y), axis=-1, kind='mergesort')\n",
        "\tY=LabelEncoder().fit_transform(Y)\n",
        "\tencoded_target=[xi for xi in range(len(actual_target))]\n",
        "\tprint('Encoded Target: {} to {}'.format(actual_target,encoded_target))\n",
        "\treturn Y\n",
        "temp=EncodeY(tempo['genre'])\n",
        "temp"
      ],
      "metadata": {
        "colab": {
          "base_uri": "https://localhost:8080/"
        },
        "id": "gRViaienixdr",
        "outputId": "8988d8fd-cf90-478c-fbeb-8f9a31fe1eb9"
      },
      "execution_count": null,
      "outputs": [
        {
          "output_type": "stream",
          "name": "stdout",
          "text": [
            "Encoded Target: ['Dark Trap' 'Emo' 'Hiphop' 'Pop' 'Rap' 'RnB' 'Trap Metal'\n",
            " 'Underground Rap'] to [0, 1, 2, 3, 4, 5, 6, 7]\n"
          ]
        },
        {
          "output_type": "execute_result",
          "data": {
            "text/plain": [
              "array([0, 0, 0, ..., 2, 2, 2])"
            ]
          },
          "metadata": {},
          "execution_count": 10
        }
      ]
    },
    {
      "cell_type": "code",
      "source": [
        "X.insert(10,\"genre_en\",temp)\n",
        "X=X.values"
      ],
      "metadata": {
        "id": "COirOdmypuzv"
      },
      "execution_count": null,
      "outputs": []
    },
    {
      "cell_type": "code",
      "source": [
        "Y.shape\n",
        "temp=Y[:100]"
      ],
      "metadata": {
        "id": "To7IDCwIJWtD"
      },
      "execution_count": null,
      "outputs": []
    },
    {
      "cell_type": "code",
      "source": [
        "X_train=X[:19519,:]\n",
        "X_test=X[19519:,:]\n",
        "Y_train=Y[:19519]\n",
        "Y_test=Y[19519:]"
      ],
      "metadata": {
        "id": "8CNbdURyCUdp"
      },
      "execution_count": null,
      "outputs": []
    },
    {
      "cell_type": "code",
      "source": [
        "polynomialfeatures=PolynomialFeatures()\n",
        "X_train=polynomialfeatures.fit_transform(X_train)\n",
        "X_test=polynomialfeatures.transform(X_test)"
      ],
      "metadata": {
        "id": "LmlZUoqvkIwx"
      },
      "execution_count": null,
      "outputs": []
    },
    {
      "cell_type": "code",
      "source": [
        "def distance(x,x1):\n",
        "  dis=np.sqrt(sum((x-x1)**2))\n",
        "  return dis"
      ],
      "metadata": {
        "id": "D-cQwY8slcO3"
      },
      "execution_count": null,
      "outputs": []
    },
    {
      "cell_type": "code",
      "source": [
        "def knn(X,Y,querypoint,k=10):\n",
        "    store=[]\n",
        "    size=X.shape[0]\n",
        "    for i in range(size):\n",
        "      d=distance(querypoint,X[i])\n",
        "      store.append((d,Y[i]))\n",
        "    store=sorted(store)\n",
        "    store=store[:k]\n",
        "    store=np.array(store)\n",
        "    return store\n",
        "    "
      ],
      "metadata": {
        "id": "uxi1iYrboVi7"
      },
      "execution_count": null,
      "outputs": []
    },
    {
      "cell_type": "code",
      "source": [
        "knn(X_train,Y_train,X_test[0])"
      ],
      "metadata": {
        "colab": {
          "base_uri": "https://localhost:8080/"
        },
        "id": "f6nymRcIrChC",
        "outputId": "8b961ec6-6829-47f5-a5e9-521ab0163348"
      },
      "execution_count": null,
      "outputs": [
        {
          "output_type": "execute_result",
          "data": {
            "text/plain": [
              "array([['0.37136363580727716', 'Machine Gun Funk - 2006 Remaster'],\n",
              "       ['0.5346293014790716', 'ELEMENT.'],\n",
              "       ['0.5778691278308608', 'Bust A Move'],\n",
              "       ['0.6630870983513397', 'X'],\n",
              "       ['0.8391714306551898', 'I Know (feat. Mick Jenkins)'],\n",
              "       ['0.861150103059856', 'Ms. Jackson'],\n",
              "       ['0.9202720738998874', 'Her Ballad'],\n",
              "       ['1.017428611784702', 'Guilt Trip'],\n",
              "       ['1.025931094177382', 'All This Money'],\n",
              "       ['1.0337451528605879', 'Christ Conscious']], dtype='<U32')"
            ]
          },
          "metadata": {},
          "execution_count": 178
        }
      ]
    },
    {
      "cell_type": "code",
      "source": [
        "columns=['song_name','like','dislike','repeat','shared','skipped']\n",
        "df=pd.DataFrame(columns=columns)\n",
        "df=df.append({'song_name':\"Venom\",'like':1,'dislike':0,'repeat':1,'shared':1,'skipped':0},ignore_index=True)\n",
        "df=df.append({'song_name':\"Symbiote\",'like':0,'dislike':-1,'repeat':0,'shared':0,'skipped':-1},ignore_index=True)\n",
        "df=df.append({'song_name':\"Pathology\",'like':1,'dislike':0,'repeat':0,'shared':0,'skipped':0},ignore_index=True)"
      ],
      "metadata": {
        "id": "d4PmufXvDf7G"
      },
      "execution_count": null,
      "outputs": []
    },
    {
      "cell_type": "code",
      "source": [
        "df"
      ],
      "metadata": {
        "colab": {
          "base_uri": "https://localhost:8080/",
          "height": 143
        },
        "id": "K0SmTl0wD8CN",
        "outputId": "a286e3bf-b60d-48dc-f6f2-aeaa50ff7494"
      },
      "execution_count": null,
      "outputs": [
        {
          "output_type": "execute_result",
          "data": {
            "text/plain": [
              "   song_name like dislike repeat shared skipped\n",
              "0      Venom    1       0      1      1       0\n",
              "1   Symbiote    0      -1      0      0      -1\n",
              "2  Pathology    1       0      0      0       0"
            ],
            "text/html": [
              "\n",
              "  <div id=\"df-e8e9c0d2-687b-407d-93f3-1c53b68560d1\">\n",
              "    <div class=\"colab-df-container\">\n",
              "      <div>\n",
              "<style scoped>\n",
              "    .dataframe tbody tr th:only-of-type {\n",
              "        vertical-align: middle;\n",
              "    }\n",
              "\n",
              "    .dataframe tbody tr th {\n",
              "        vertical-align: top;\n",
              "    }\n",
              "\n",
              "    .dataframe thead th {\n",
              "        text-align: right;\n",
              "    }\n",
              "</style>\n",
              "<table border=\"1\" class=\"dataframe\">\n",
              "  <thead>\n",
              "    <tr style=\"text-align: right;\">\n",
              "      <th></th>\n",
              "      <th>song_name</th>\n",
              "      <th>like</th>\n",
              "      <th>dislike</th>\n",
              "      <th>repeat</th>\n",
              "      <th>shared</th>\n",
              "      <th>skipped</th>\n",
              "    </tr>\n",
              "  </thead>\n",
              "  <tbody>\n",
              "    <tr>\n",
              "      <th>0</th>\n",
              "      <td>Venom</td>\n",
              "      <td>1</td>\n",
              "      <td>0</td>\n",
              "      <td>1</td>\n",
              "      <td>1</td>\n",
              "      <td>0</td>\n",
              "    </tr>\n",
              "    <tr>\n",
              "      <th>1</th>\n",
              "      <td>Symbiote</td>\n",
              "      <td>0</td>\n",
              "      <td>-1</td>\n",
              "      <td>0</td>\n",
              "      <td>0</td>\n",
              "      <td>-1</td>\n",
              "    </tr>\n",
              "    <tr>\n",
              "      <th>2</th>\n",
              "      <td>Pathology</td>\n",
              "      <td>1</td>\n",
              "      <td>0</td>\n",
              "      <td>0</td>\n",
              "      <td>0</td>\n",
              "      <td>0</td>\n",
              "    </tr>\n",
              "  </tbody>\n",
              "</table>\n",
              "</div>\n",
              "      <button class=\"colab-df-convert\" onclick=\"convertToInteractive('df-e8e9c0d2-687b-407d-93f3-1c53b68560d1')\"\n",
              "              title=\"Convert this dataframe to an interactive table.\"\n",
              "              style=\"display:none;\">\n",
              "        \n",
              "  <svg xmlns=\"http://www.w3.org/2000/svg\" height=\"24px\"viewBox=\"0 0 24 24\"\n",
              "       width=\"24px\">\n",
              "    <path d=\"M0 0h24v24H0V0z\" fill=\"none\"/>\n",
              "    <path d=\"M18.56 5.44l.94 2.06.94-2.06 2.06-.94-2.06-.94-.94-2.06-.94 2.06-2.06.94zm-11 1L8.5 8.5l.94-2.06 2.06-.94-2.06-.94L8.5 2.5l-.94 2.06-2.06.94zm10 10l.94 2.06.94-2.06 2.06-.94-2.06-.94-.94-2.06-.94 2.06-2.06.94z\"/><path d=\"M17.41 7.96l-1.37-1.37c-.4-.4-.92-.59-1.43-.59-.52 0-1.04.2-1.43.59L10.3 9.45l-7.72 7.72c-.78.78-.78 2.05 0 2.83L4 21.41c.39.39.9.59 1.41.59.51 0 1.02-.2 1.41-.59l7.78-7.78 2.81-2.81c.8-.78.8-2.07 0-2.86zM5.41 20L4 18.59l7.72-7.72 1.47 1.35L5.41 20z\"/>\n",
              "  </svg>\n",
              "      </button>\n",
              "      \n",
              "  <style>\n",
              "    .colab-df-container {\n",
              "      display:flex;\n",
              "      flex-wrap:wrap;\n",
              "      gap: 12px;\n",
              "    }\n",
              "\n",
              "    .colab-df-convert {\n",
              "      background-color: #E8F0FE;\n",
              "      border: none;\n",
              "      border-radius: 50%;\n",
              "      cursor: pointer;\n",
              "      display: none;\n",
              "      fill: #1967D2;\n",
              "      height: 32px;\n",
              "      padding: 0 0 0 0;\n",
              "      width: 32px;\n",
              "    }\n",
              "\n",
              "    .colab-df-convert:hover {\n",
              "      background-color: #E2EBFA;\n",
              "      box-shadow: 0px 1px 2px rgba(60, 64, 67, 0.3), 0px 1px 3px 1px rgba(60, 64, 67, 0.15);\n",
              "      fill: #174EA6;\n",
              "    }\n",
              "\n",
              "    [theme=dark] .colab-df-convert {\n",
              "      background-color: #3B4455;\n",
              "      fill: #D2E3FC;\n",
              "    }\n",
              "\n",
              "    [theme=dark] .colab-df-convert:hover {\n",
              "      background-color: #434B5C;\n",
              "      box-shadow: 0px 1px 3px 1px rgba(0, 0, 0, 0.15);\n",
              "      filter: drop-shadow(0px 1px 2px rgba(0, 0, 0, 0.3));\n",
              "      fill: #FFFFFF;\n",
              "    }\n",
              "  </style>\n",
              "\n",
              "      <script>\n",
              "        const buttonEl =\n",
              "          document.querySelector('#df-e8e9c0d2-687b-407d-93f3-1c53b68560d1 button.colab-df-convert');\n",
              "        buttonEl.style.display =\n",
              "          google.colab.kernel.accessAllowed ? 'block' : 'none';\n",
              "\n",
              "        async function convertToInteractive(key) {\n",
              "          const element = document.querySelector('#df-e8e9c0d2-687b-407d-93f3-1c53b68560d1');\n",
              "          const dataTable =\n",
              "            await google.colab.kernel.invokeFunction('convertToInteractive',\n",
              "                                                     [key], {});\n",
              "          if (!dataTable) return;\n",
              "\n",
              "          const docLinkHtml = 'Like what you see? Visit the ' +\n",
              "            '<a target=\"_blank\" href=https://colab.research.google.com/notebooks/data_table.ipynb>data table notebook</a>'\n",
              "            + ' to learn more about interactive tables.';\n",
              "          element.innerHTML = '';\n",
              "          dataTable['output_type'] = 'display_data';\n",
              "          await google.colab.output.renderOutput(dataTable, element);\n",
              "          const docLink = document.createElement('div');\n",
              "          docLink.innerHTML = docLinkHtml;\n",
              "          element.appendChild(docLink);\n",
              "        }\n",
              "      </script>\n",
              "    </div>\n",
              "  </div>\n",
              "  "
            ]
          },
          "metadata": {},
          "execution_count": 34
        }
      ]
    },
    {
      "cell_type": "code",
      "source": [
        "df['sum']=df.sum(axis=1)"
      ],
      "metadata": {
        "colab": {
          "base_uri": "https://localhost:8080/"
        },
        "id": "NRwYuxaDPovW",
        "outputId": "d60789e1-997d-4b95-ef65-c976b43f4167"
      },
      "execution_count": null,
      "outputs": [
        {
          "output_type": "stream",
          "name": "stderr",
          "text": [
            "/usr/local/lib/python3.7/dist-packages/ipykernel_launcher.py:1: FutureWarning: Dropping of nuisance columns in DataFrame reductions (with 'numeric_only=None') is deprecated; in a future version this will raise TypeError.  Select only valid columns before calling the reduction.\n",
            "  \"\"\"Entry point for launching an IPython kernel.\n"
          ]
        }
      ]
    },
    {
      "cell_type": "code",
      "source": [
        "df['sum']=df[['like','dislike','repeat','shared','skipped']].sum(axis=1)"
      ],
      "metadata": {
        "id": "-ZnWIS-dR37W"
      },
      "execution_count": null,
      "outputs": []
    },
    {
      "cell_type": "code",
      "source": [
        "df"
      ],
      "metadata": {
        "colab": {
          "base_uri": "https://localhost:8080/",
          "height": 143
        },
        "id": "aeTcZ_saUwEL",
        "outputId": "8961dbd2-1e70-4eda-9497-ec0447458df9"
      },
      "execution_count": null,
      "outputs": [
        {
          "output_type": "execute_result",
          "data": {
            "text/plain": [
              "   song_name like dislike repeat shared skipped  sum\n",
              "0      Venom    1       0      1      1       0  3.0\n",
              "1   Symbiote    0      -1      0      0      -1 -2.0\n",
              "2  Pathology    1       0      0      0       0  1.0"
            ],
            "text/html": [
              "\n",
              "  <div id=\"df-aaf1d64a-838d-491f-8b16-c4530d72bb05\">\n",
              "    <div class=\"colab-df-container\">\n",
              "      <div>\n",
              "<style scoped>\n",
              "    .dataframe tbody tr th:only-of-type {\n",
              "        vertical-align: middle;\n",
              "    }\n",
              "\n",
              "    .dataframe tbody tr th {\n",
              "        vertical-align: top;\n",
              "    }\n",
              "\n",
              "    .dataframe thead th {\n",
              "        text-align: right;\n",
              "    }\n",
              "</style>\n",
              "<table border=\"1\" class=\"dataframe\">\n",
              "  <thead>\n",
              "    <tr style=\"text-align: right;\">\n",
              "      <th></th>\n",
              "      <th>song_name</th>\n",
              "      <th>like</th>\n",
              "      <th>dislike</th>\n",
              "      <th>repeat</th>\n",
              "      <th>shared</th>\n",
              "      <th>skipped</th>\n",
              "      <th>sum</th>\n",
              "    </tr>\n",
              "  </thead>\n",
              "  <tbody>\n",
              "    <tr>\n",
              "      <th>0</th>\n",
              "      <td>Venom</td>\n",
              "      <td>1</td>\n",
              "      <td>0</td>\n",
              "      <td>1</td>\n",
              "      <td>1</td>\n",
              "      <td>0</td>\n",
              "      <td>3.0</td>\n",
              "    </tr>\n",
              "    <tr>\n",
              "      <th>1</th>\n",
              "      <td>Symbiote</td>\n",
              "      <td>0</td>\n",
              "      <td>-1</td>\n",
              "      <td>0</td>\n",
              "      <td>0</td>\n",
              "      <td>-1</td>\n",
              "      <td>-2.0</td>\n",
              "    </tr>\n",
              "    <tr>\n",
              "      <th>2</th>\n",
              "      <td>Pathology</td>\n",
              "      <td>1</td>\n",
              "      <td>0</td>\n",
              "      <td>0</td>\n",
              "      <td>0</td>\n",
              "      <td>0</td>\n",
              "      <td>1.0</td>\n",
              "    </tr>\n",
              "  </tbody>\n",
              "</table>\n",
              "</div>\n",
              "      <button class=\"colab-df-convert\" onclick=\"convertToInteractive('df-aaf1d64a-838d-491f-8b16-c4530d72bb05')\"\n",
              "              title=\"Convert this dataframe to an interactive table.\"\n",
              "              style=\"display:none;\">\n",
              "        \n",
              "  <svg xmlns=\"http://www.w3.org/2000/svg\" height=\"24px\"viewBox=\"0 0 24 24\"\n",
              "       width=\"24px\">\n",
              "    <path d=\"M0 0h24v24H0V0z\" fill=\"none\"/>\n",
              "    <path d=\"M18.56 5.44l.94 2.06.94-2.06 2.06-.94-2.06-.94-.94-2.06-.94 2.06-2.06.94zm-11 1L8.5 8.5l.94-2.06 2.06-.94-2.06-.94L8.5 2.5l-.94 2.06-2.06.94zm10 10l.94 2.06.94-2.06 2.06-.94-2.06-.94-.94-2.06-.94 2.06-2.06.94z\"/><path d=\"M17.41 7.96l-1.37-1.37c-.4-.4-.92-.59-1.43-.59-.52 0-1.04.2-1.43.59L10.3 9.45l-7.72 7.72c-.78.78-.78 2.05 0 2.83L4 21.41c.39.39.9.59 1.41.59.51 0 1.02-.2 1.41-.59l7.78-7.78 2.81-2.81c.8-.78.8-2.07 0-2.86zM5.41 20L4 18.59l7.72-7.72 1.47 1.35L5.41 20z\"/>\n",
              "  </svg>\n",
              "      </button>\n",
              "      \n",
              "  <style>\n",
              "    .colab-df-container {\n",
              "      display:flex;\n",
              "      flex-wrap:wrap;\n",
              "      gap: 12px;\n",
              "    }\n",
              "\n",
              "    .colab-df-convert {\n",
              "      background-color: #E8F0FE;\n",
              "      border: none;\n",
              "      border-radius: 50%;\n",
              "      cursor: pointer;\n",
              "      display: none;\n",
              "      fill: #1967D2;\n",
              "      height: 32px;\n",
              "      padding: 0 0 0 0;\n",
              "      width: 32px;\n",
              "    }\n",
              "\n",
              "    .colab-df-convert:hover {\n",
              "      background-color: #E2EBFA;\n",
              "      box-shadow: 0px 1px 2px rgba(60, 64, 67, 0.3), 0px 1px 3px 1px rgba(60, 64, 67, 0.15);\n",
              "      fill: #174EA6;\n",
              "    }\n",
              "\n",
              "    [theme=dark] .colab-df-convert {\n",
              "      background-color: #3B4455;\n",
              "      fill: #D2E3FC;\n",
              "    }\n",
              "\n",
              "    [theme=dark] .colab-df-convert:hover {\n",
              "      background-color: #434B5C;\n",
              "      box-shadow: 0px 1px 3px 1px rgba(0, 0, 0, 0.15);\n",
              "      filter: drop-shadow(0px 1px 2px rgba(0, 0, 0, 0.3));\n",
              "      fill: #FFFFFF;\n",
              "    }\n",
              "  </style>\n",
              "\n",
              "      <script>\n",
              "        const buttonEl =\n",
              "          document.querySelector('#df-aaf1d64a-838d-491f-8b16-c4530d72bb05 button.colab-df-convert');\n",
              "        buttonEl.style.display =\n",
              "          google.colab.kernel.accessAllowed ? 'block' : 'none';\n",
              "\n",
              "        async function convertToInteractive(key) {\n",
              "          const element = document.querySelector('#df-aaf1d64a-838d-491f-8b16-c4530d72bb05');\n",
              "          const dataTable =\n",
              "            await google.colab.kernel.invokeFunction('convertToInteractive',\n",
              "                                                     [key], {});\n",
              "          if (!dataTable) return;\n",
              "\n",
              "          const docLinkHtml = 'Like what you see? Visit the ' +\n",
              "            '<a target=\"_blank\" href=https://colab.research.google.com/notebooks/data_table.ipynb>data table notebook</a>'\n",
              "            + ' to learn more about interactive tables.';\n",
              "          element.innerHTML = '';\n",
              "          dataTable['output_type'] = 'display_data';\n",
              "          await google.colab.output.renderOutput(dataTable, element);\n",
              "          const docLink = document.createElement('div');\n",
              "          docLink.innerHTML = docLinkHtml;\n",
              "          element.appendChild(docLink);\n",
              "        }\n",
              "      </script>\n",
              "    </div>\n",
              "  </div>\n",
              "  "
            ]
          },
          "metadata": {},
          "execution_count": 57
        }
      ]
    },
    {
      "cell_type": "code",
      "source": [
        "df.shape[0]"
      ],
      "metadata": {
        "colab": {
          "base_uri": "https://localhost:8080/",
          "height": 165
        },
        "id": "xmKksAk9R_VF",
        "outputId": "5013da51-4c7e-4b06-faa9-47f84cec95ed"
      },
      "execution_count": null,
      "outputs": [
        {
          "output_type": "error",
          "ename": "AttributeError",
          "evalue": "ignored",
          "traceback": [
            "\u001b[0;31m---------------------------------------------------------------------------\u001b[0m",
            "\u001b[0;31mAttributeError\u001b[0m                            Traceback (most recent call last)",
            "\u001b[0;32m<ipython-input-51-0369cd848f01>\u001b[0m in \u001b[0;36m<module>\u001b[0;34m()\u001b[0m\n\u001b[0;32m----> 1\u001b[0;31m \u001b[0mdf\u001b[0m\u001b[0;34m.\u001b[0m\u001b[0mshape\u001b[0m\u001b[0;34m[\u001b[0m\u001b[0;36m0\u001b[0m\u001b[0;34m]\u001b[0m\u001b[0;34m.\u001b[0m\u001b[0mtype\u001b[0m\u001b[0;34m(\u001b[0m\u001b[0;34m)\u001b[0m\u001b[0;34m\u001b[0m\u001b[0;34m\u001b[0m\u001b[0m\n\u001b[0m",
            "\u001b[0;31mAttributeError\u001b[0m: 'int' object has no attribute 'type'"
          ]
        }
      ]
    },
    {
      "cell_type": "code",
      "source": [
        "from queue import PriorityQueue\n",
        "  \n",
        "q = PriorityQueue()\n",
        "k=0\n",
        "for i in range(df.shape[0]):\n",
        "  q.put((df['sum'][i],df['song_name'][i]))\n",
        "  k=k+1\n",
        "  if(k>2):\n",
        "    q.get()"
      ],
      "metadata": {
        "id": "Um8Rowd8SVqD"
      },
      "execution_count": null,
      "outputs": []
    },
    {
      "cell_type": "code",
      "source": [
        "while q.empty()==False:\n",
        "  x=q.get()[1]\n",
        "  data[data['song_name']==x].index.values"
      ],
      "metadata": {
        "colab": {
          "base_uri": "https://localhost:8080/"
        },
        "id": "sWi1c_2rTs3P",
        "outputId": "25539082-1cae-4291-e3b1-ab5e3e9fbd5d"
      },
      "execution_count": null,
      "outputs": [
        {
          "output_type": "stream",
          "name": "stdout",
          "text": [
            "(1.0, 'Pathology')\n",
            "(3.0, 'Venom')\n"
          ]
        }
      ]
    },
    {
      "cell_type": "code",
      "source": [
        "data['analysis_url'][data[data['song_name']=='Symbiote'].index.values]"
      ],
      "metadata": {
        "colab": {
          "base_uri": "https://localhost:8080/"
        },
        "id": "ifPSGph3Usog",
        "outputId": "86c5b4da-aca7-4f72-aa84-af2af2e65aeb"
      },
      "execution_count": null,
      "outputs": [
        {
          "output_type": "execute_result",
          "data": {
            "text/plain": [
              "2    https://api.spotify.com/v1/audio-analysis/0vSW...\n",
              "Name: analysis_url, dtype: object"
            ]
          },
          "metadata": {},
          "execution_count": 64
        }
      ]
    },
    {
      "cell_type": "code",
      "source": [
        "X_train"
      ],
      "metadata": {
        "id": "iItANl3DVdaz",
        "colab": {
          "base_uri": "https://localhost:8080/"
        },
        "outputId": "4ae67df6-5ee1-49b9-907c-597fd6887e81"
      },
      "execution_count": null,
      "outputs": [
        {
          "output_type": "execute_result",
          "data": {
            "text/plain": [
              "array([[1.00000e+00, 8.31000e-01, 8.14000e-01, ..., 1.51321e-01,\n",
              "        0.00000e+00, 0.00000e+00],\n",
              "       [1.00000e+00, 7.19000e-01, 4.93000e-01, ..., 1.53760e-02,\n",
              "        0.00000e+00, 0.00000e+00],\n",
              "       [1.00000e+00, 8.50000e-01, 8.93000e-01, ..., 1.52881e-03,\n",
              "        0.00000e+00, 0.00000e+00],\n",
              "       ...,\n",
              "       [1.00000e+00, 7.16000e-01, 5.68000e-01, ..., 8.19025e-01,\n",
              "        1.81000e+00, 4.00000e+00],\n",
              "       [1.00000e+00, 5.41000e-01, 7.48000e-01, ..., 1.23201e-01,\n",
              "        7.02000e-01, 4.00000e+00],\n",
              "       [1.00000e+00, 6.21000e-01, 6.72000e-01, ..., 5.19840e-02,\n",
              "        4.56000e-01, 4.00000e+00]])"
            ]
          },
          "metadata": {},
          "execution_count": 16
        }
      ]
    },
    {
      "cell_type": "code",
      "source": [
        "Y_train"
      ],
      "metadata": {
        "colab": {
          "base_uri": "https://localhost:8080/"
        },
        "id": "mmkTL_ExBUk-",
        "outputId": "b02a90ea-b4e4-4a9a-f5df-7ec22b52f43e"
      },
      "execution_count": null,
      "outputs": [
        {
          "output_type": "execute_result",
          "data": {
            "text/plain": [
              "0                                      Mercury: Retrograde\n",
              "1                                                Pathology\n",
              "2                                                 Symbiote\n",
              "3            ProductOfDrugs (Prod. The Virus and Antidote)\n",
              "4                                                    Venom\n",
              "                               ...                        \n",
              "19515                                             ELEMENT.\n",
              "19516    I Don’t Wanna Live Forever (Fifty Shades Darke...\n",
              "19517                           Sunday (feat. Frank Ocean)\n",
              "19518                      Whoa (feat. Tyler, The Creator)\n",
              "19519                                          Mockingbird\n",
              "Name: song_name, Length: 19519, dtype: object"
            ]
          },
          "metadata": {},
          "execution_count": 18
        }
      ]
    },
    {
      "cell_type": "code",
      "source": [
        "data[data['song_name']=='Machine Gun Funk - 2006 Remaster'].index.values"
      ],
      "metadata": {
        "colab": {
          "base_uri": "https://localhost:8080/"
        },
        "id": "BZssAU62BbP0",
        "outputId": "a65bd623-8150-4758-9da4-4081e986a176"
      },
      "execution_count": null,
      "outputs": [
        {
          "output_type": "execute_result",
          "data": {
            "text/plain": [
              "array([18938])"
            ]
          },
          "metadata": {},
          "execution_count": 19
        }
      ]
    },
    {
      "cell_type": "code",
      "source": [
        "check1=X_train[18938]"
      ],
      "metadata": {
        "id": "ZhRvbr_tCNiX"
      },
      "execution_count": null,
      "outputs": []
    },
    {
      "cell_type": "code",
      "source": [
        "data[data['song_name']==Y_test[19520]].index.values"
      ],
      "metadata": {
        "colab": {
          "base_uri": "https://localhost:8080/"
        },
        "id": "NZa6BtbdCTo_",
        "outputId": "840cad4b-b8b8-46c7-b95d-67f1f3640d5f"
      },
      "execution_count": null,
      "outputs": [
        {
          "output_type": "execute_result",
          "data": {
            "text/plain": [
              "array([ 9219, 19184, 19520])"
            ]
          },
          "metadata": {},
          "execution_count": 30
        }
      ]
    },
    {
      "cell_type": "code",
      "source": [
        "Y_test"
      ],
      "metadata": {
        "colab": {
          "base_uri": "https://localhost:8080/"
        },
        "id": "FCb138emCiQB",
        "outputId": "35d39e16-9f64-4d74-8561-f2312c30acad"
      },
      "execution_count": null,
      "outputs": [
        {
          "output_type": "execute_result",
          "data": {
            "text/plain": [
              "19520    Guilty Conscience\n",
              "19521           Role Model\n",
              "19522                 Stan\n",
              "19523         Just Lose It\n",
              "19524           My Name Is\n",
              "               ...        \n",
              "21520         Daddy's Girl\n",
              "21521                  '94\n",
              "21522          Born 2 Live\n",
              "21523        Can't Hold On\n",
              "21524         Still D.R.E.\n",
              "Name: song_name, Length: 2000, dtype: object"
            ]
          },
          "metadata": {},
          "execution_count": 25
        }
      ]
    },
    {
      "cell_type": "code",
      "source": [
        "X_test"
      ],
      "metadata": {
        "colab": {
          "base_uri": "https://localhost:8080/"
        },
        "id": "kbd33KWqCpNc",
        "outputId": "8298d11d-675e-4a4b-eb1b-9fe25a257329"
      },
      "execution_count": null,
      "outputs": [
        {
          "output_type": "execute_result",
          "data": {
            "text/plain": [
              "array([[1.      , 0.752   , 0.782   , ..., 0.237169, 0.974   , 4.      ],\n",
              "       [1.      , 0.863   , 0.589   , ..., 0.597529, 1.546   , 4.      ],\n",
              "       [1.      , 0.78    , 0.768   , ..., 0.257049, 1.014   , 4.      ],\n",
              "       ...,\n",
              "       [1.      , 0.785   , 0.648   , ..., 0.256036, 1.012   , 4.      ],\n",
              "       [1.      , 0.747   , 0.832   , ..., 0.537289, 1.466   , 4.      ],\n",
              "       [1.      , 0.816   , 0.775   , ..., 0.277729, 1.054   , 4.      ]])"
            ]
          },
          "metadata": {},
          "execution_count": 26
        }
      ]
    },
    {
      "cell_type": "code",
      "source": [
        "X_test[0]"
      ],
      "metadata": {
        "colab": {
          "base_uri": "https://localhost:8080/"
        },
        "id": "Z0diecGbC8iG",
        "outputId": "b223dab2-5d66-4d6c-9bff-97e7a629f250"
      },
      "execution_count": null,
      "outputs": [
        {
          "output_type": "execute_result",
          "data": {
            "text/plain": [
              "array([ 1.0000000e+00,  7.5200000e-01,  7.8200000e-01,  4.0000000e+00,\n",
              "       -5.1470000e+00,  0.0000000e+00,  2.8800000e-01,  4.8300000e-02,\n",
              "        0.0000000e+00,  3.4000000e-01,  4.8700000e-01,  2.0000000e+00,\n",
              "        5.6550400e-01,  5.8806400e-01,  3.0080000e+00, -3.8705440e+00,\n",
              "        0.0000000e+00,  2.1657600e-01,  3.6321600e-02,  0.0000000e+00,\n",
              "        2.5568000e-01,  3.6622400e-01,  1.5040000e+00,  6.1152400e-01,\n",
              "        3.1280000e+00, -4.0249540e+00,  0.0000000e+00,  2.2521600e-01,\n",
              "        3.7770600e-02,  0.0000000e+00,  2.6588000e-01,  3.8083400e-01,\n",
              "        1.5640000e+00,  1.6000000e+01, -2.0588000e+01,  0.0000000e+00,\n",
              "        1.1520000e+00,  1.9320000e-01,  0.0000000e+00,  1.3600000e+00,\n",
              "        1.9480000e+00,  8.0000000e+00,  2.6491609e+01, -0.0000000e+00,\n",
              "       -1.4823360e+00, -2.4860010e-01, -0.0000000e+00, -1.7499800e+00,\n",
              "       -2.5065890e+00, -1.0294000e+01,  0.0000000e+00,  0.0000000e+00,\n",
              "        0.0000000e+00,  0.0000000e+00,  0.0000000e+00,  0.0000000e+00,\n",
              "        0.0000000e+00,  8.2944000e-02,  1.3910400e-02,  0.0000000e+00,\n",
              "        9.7920000e-02,  1.4025600e-01,  5.7600000e-01,  2.3328900e-03,\n",
              "        0.0000000e+00,  1.6422000e-02,  2.3522100e-02,  9.6600000e-02,\n",
              "        0.0000000e+00,  0.0000000e+00,  0.0000000e+00,  0.0000000e+00,\n",
              "        1.1560000e-01,  1.6558000e-01,  6.8000000e-01,  2.3716900e-01,\n",
              "        9.7400000e-01,  4.0000000e+00])"
            ]
          },
          "metadata": {},
          "execution_count": 27
        }
      ]
    },
    {
      "cell_type": "code",
      "source": [
        "Y_test[19520]"
      ],
      "metadata": {
        "colab": {
          "base_uri": "https://localhost:8080/",
          "height": 36
        },
        "id": "FHiRvk87C-bP",
        "outputId": "5e4a092b-482d-48bd-b507-202e8f741d92"
      },
      "execution_count": null,
      "outputs": [
        {
          "output_type": "execute_result",
          "data": {
            "text/plain": [
              "'Guilty Conscience'"
            ],
            "application/vnd.google.colaboratory.intrinsic+json": {
              "type": "string"
            }
          },
          "metadata": {},
          "execution_count": 29
        }
      ]
    },
    {
      "cell_type": "code",
      "source": [
        "check2=X_train[9219]"
      ],
      "metadata": {
        "id": "4NKxKM7KDFq4"
      },
      "execution_count": null,
      "outputs": []
    },
    {
      "cell_type": "code",
      "source": [
        "kn=pd.DataFrame(check1,check2,ignore_index=True)"
      ],
      "metadata": {
        "colab": {
          "base_uri": "https://localhost:8080/",
          "height": 165
        },
        "id": "ECazUMZlDVPq",
        "outputId": "a7d83a25-95ca-4031-e5e0-68a6d03e34f6"
      },
      "execution_count": null,
      "outputs": [
        {
          "output_type": "error",
          "ename": "TypeError",
          "evalue": "ignored",
          "traceback": [
            "\u001b[0;31m---------------------------------------------------------------------------\u001b[0m",
            "\u001b[0;31mTypeError\u001b[0m                                 Traceback (most recent call last)",
            "\u001b[0;32m<ipython-input-38-38dfd05b840b>\u001b[0m in \u001b[0;36m<module>\u001b[0;34m()\u001b[0m\n\u001b[0;32m----> 1\u001b[0;31m \u001b[0mkn\u001b[0m\u001b[0;34m=\u001b[0m\u001b[0mpd\u001b[0m\u001b[0;34m.\u001b[0m\u001b[0mDataFrame\u001b[0m\u001b[0;34m(\u001b[0m\u001b[0mcheck1\u001b[0m\u001b[0;34m,\u001b[0m\u001b[0mcheck2\u001b[0m\u001b[0;34m,\u001b[0m\u001b[0mignore_index\u001b[0m\u001b[0;34m=\u001b[0m\u001b[0;32mTrue\u001b[0m\u001b[0;34m)\u001b[0m\u001b[0;34m\u001b[0m\u001b[0;34m\u001b[0m\u001b[0m\n\u001b[0m",
            "\u001b[0;31mTypeError\u001b[0m: __init__() got an unexpected keyword argument 'ignore_index'"
          ]
        }
      ]
    },
    {
      "cell_type": "code",
      "source": [
        "kn"
      ],
      "metadata": {
        "colab": {
          "base_uri": "https://localhost:8080/",
          "height": 424
        },
        "id": "2mVmwDMfEUNX",
        "outputId": "19fc2fc5-55a3-45e1-d175-938f68d271e2"
      },
      "execution_count": null,
      "outputs": [
        {
          "output_type": "execute_result",
          "data": {
            "text/plain": [
              "                   0\n",
              " 1.000000   1.000000\n",
              " 0.752000   0.594000\n",
              " 0.782000   0.785000\n",
              " 4.000000   6.000000\n",
              "-5.147000  -7.598000\n",
              "...              ...\n",
              " 0.165580   0.059214\n",
              " 2.380000   0.278000\n",
              " 0.237169   0.181476\n",
              " 3.409000   0.852000\n",
              " 49.000000  4.000000\n",
              "\n",
              "[78 rows x 1 columns]"
            ],
            "text/html": [
              "\n",
              "  <div id=\"df-d88d8207-9429-4397-a315-28dca8f895bf\">\n",
              "    <div class=\"colab-df-container\">\n",
              "      <div>\n",
              "<style scoped>\n",
              "    .dataframe tbody tr th:only-of-type {\n",
              "        vertical-align: middle;\n",
              "    }\n",
              "\n",
              "    .dataframe tbody tr th {\n",
              "        vertical-align: top;\n",
              "    }\n",
              "\n",
              "    .dataframe thead th {\n",
              "        text-align: right;\n",
              "    }\n",
              "</style>\n",
              "<table border=\"1\" class=\"dataframe\">\n",
              "  <thead>\n",
              "    <tr style=\"text-align: right;\">\n",
              "      <th></th>\n",
              "      <th>0</th>\n",
              "    </tr>\n",
              "  </thead>\n",
              "  <tbody>\n",
              "    <tr>\n",
              "      <th>1.000000</th>\n",
              "      <td>1.000000</td>\n",
              "    </tr>\n",
              "    <tr>\n",
              "      <th>0.752000</th>\n",
              "      <td>0.594000</td>\n",
              "    </tr>\n",
              "    <tr>\n",
              "      <th>0.782000</th>\n",
              "      <td>0.785000</td>\n",
              "    </tr>\n",
              "    <tr>\n",
              "      <th>4.000000</th>\n",
              "      <td>6.000000</td>\n",
              "    </tr>\n",
              "    <tr>\n",
              "      <th>-5.147000</th>\n",
              "      <td>-7.598000</td>\n",
              "    </tr>\n",
              "    <tr>\n",
              "      <th>...</th>\n",
              "      <td>...</td>\n",
              "    </tr>\n",
              "    <tr>\n",
              "      <th>0.165580</th>\n",
              "      <td>0.059214</td>\n",
              "    </tr>\n",
              "    <tr>\n",
              "      <th>2.380000</th>\n",
              "      <td>0.278000</td>\n",
              "    </tr>\n",
              "    <tr>\n",
              "      <th>0.237169</th>\n",
              "      <td>0.181476</td>\n",
              "    </tr>\n",
              "    <tr>\n",
              "      <th>3.409000</th>\n",
              "      <td>0.852000</td>\n",
              "    </tr>\n",
              "    <tr>\n",
              "      <th>49.000000</th>\n",
              "      <td>4.000000</td>\n",
              "    </tr>\n",
              "  </tbody>\n",
              "</table>\n",
              "<p>78 rows × 1 columns</p>\n",
              "</div>\n",
              "      <button class=\"colab-df-convert\" onclick=\"convertToInteractive('df-d88d8207-9429-4397-a315-28dca8f895bf')\"\n",
              "              title=\"Convert this dataframe to an interactive table.\"\n",
              "              style=\"display:none;\">\n",
              "        \n",
              "  <svg xmlns=\"http://www.w3.org/2000/svg\" height=\"24px\"viewBox=\"0 0 24 24\"\n",
              "       width=\"24px\">\n",
              "    <path d=\"M0 0h24v24H0V0z\" fill=\"none\"/>\n",
              "    <path d=\"M18.56 5.44l.94 2.06.94-2.06 2.06-.94-2.06-.94-.94-2.06-.94 2.06-2.06.94zm-11 1L8.5 8.5l.94-2.06 2.06-.94-2.06-.94L8.5 2.5l-.94 2.06-2.06.94zm10 10l.94 2.06.94-2.06 2.06-.94-2.06-.94-.94-2.06-.94 2.06-2.06.94z\"/><path d=\"M17.41 7.96l-1.37-1.37c-.4-.4-.92-.59-1.43-.59-.52 0-1.04.2-1.43.59L10.3 9.45l-7.72 7.72c-.78.78-.78 2.05 0 2.83L4 21.41c.39.39.9.59 1.41.59.51 0 1.02-.2 1.41-.59l7.78-7.78 2.81-2.81c.8-.78.8-2.07 0-2.86zM5.41 20L4 18.59l7.72-7.72 1.47 1.35L5.41 20z\"/>\n",
              "  </svg>\n",
              "      </button>\n",
              "      \n",
              "  <style>\n",
              "    .colab-df-container {\n",
              "      display:flex;\n",
              "      flex-wrap:wrap;\n",
              "      gap: 12px;\n",
              "    }\n",
              "\n",
              "    .colab-df-convert {\n",
              "      background-color: #E8F0FE;\n",
              "      border: none;\n",
              "      border-radius: 50%;\n",
              "      cursor: pointer;\n",
              "      display: none;\n",
              "      fill: #1967D2;\n",
              "      height: 32px;\n",
              "      padding: 0 0 0 0;\n",
              "      width: 32px;\n",
              "    }\n",
              "\n",
              "    .colab-df-convert:hover {\n",
              "      background-color: #E2EBFA;\n",
              "      box-shadow: 0px 1px 2px rgba(60, 64, 67, 0.3), 0px 1px 3px 1px rgba(60, 64, 67, 0.15);\n",
              "      fill: #174EA6;\n",
              "    }\n",
              "\n",
              "    [theme=dark] .colab-df-convert {\n",
              "      background-color: #3B4455;\n",
              "      fill: #D2E3FC;\n",
              "    }\n",
              "\n",
              "    [theme=dark] .colab-df-convert:hover {\n",
              "      background-color: #434B5C;\n",
              "      box-shadow: 0px 1px 3px 1px rgba(0, 0, 0, 0.15);\n",
              "      filter: drop-shadow(0px 1px 2px rgba(0, 0, 0, 0.3));\n",
              "      fill: #FFFFFF;\n",
              "    }\n",
              "  </style>\n",
              "\n",
              "      <script>\n",
              "        const buttonEl =\n",
              "          document.querySelector('#df-d88d8207-9429-4397-a315-28dca8f895bf button.colab-df-convert');\n",
              "        buttonEl.style.display =\n",
              "          google.colab.kernel.accessAllowed ? 'block' : 'none';\n",
              "\n",
              "        async function convertToInteractive(key) {\n",
              "          const element = document.querySelector('#df-d88d8207-9429-4397-a315-28dca8f895bf');\n",
              "          const dataTable =\n",
              "            await google.colab.kernel.invokeFunction('convertToInteractive',\n",
              "                                                     [key], {});\n",
              "          if (!dataTable) return;\n",
              "\n",
              "          const docLinkHtml = 'Like what you see? Visit the ' +\n",
              "            '<a target=\"_blank\" href=https://colab.research.google.com/notebooks/data_table.ipynb>data table notebook</a>'\n",
              "            + ' to learn more about interactive tables.';\n",
              "          element.innerHTML = '';\n",
              "          dataTable['output_type'] = 'display_data';\n",
              "          await google.colab.output.renderOutput(dataTable, element);\n",
              "          const docLink = document.createElement('div');\n",
              "          docLink.innerHTML = docLinkHtml;\n",
              "          element.appendChild(docLink);\n",
              "        }\n",
              "      </script>\n",
              "    </div>\n",
              "  </div>\n",
              "  "
            ]
          },
          "metadata": {},
          "execution_count": 35
        }
      ]
    },
    {
      "cell_type": "code",
      "source": [
        "kn=kn.transpose()"
      ],
      "metadata": {
        "id": "8ZLsBNvsEeM9"
      },
      "execution_count": null,
      "outputs": []
    },
    {
      "cell_type": "code",
      "source": [
        "check1.shape"
      ],
      "metadata": {
        "colab": {
          "base_uri": "https://localhost:8080/"
        },
        "id": "PAHKs5iyE6iN",
        "outputId": "6a82f6e7-80bc-4080-fdfb-757514c8d2db"
      },
      "execution_count": null,
      "outputs": [
        {
          "output_type": "execute_result",
          "data": {
            "text/plain": [
              "(78,)"
            ]
          },
          "metadata": {},
          "execution_count": 41
        }
      ]
    },
    {
      "cell_type": "code",
      "source": [
        "X_train.shape[0]"
      ],
      "metadata": {
        "colab": {
          "base_uri": "https://localhost:8080/"
        },
        "id": "ZsrIl76vE8a-",
        "outputId": "4ebc88e0-f0fb-4785-ed13-997ab876599b"
      },
      "execution_count": null,
      "outputs": [
        {
          "output_type": "execute_result",
          "data": {
            "text/plain": [
              "19519"
            ]
          },
          "metadata": {},
          "execution_count": 42
        }
      ]
    },
    {
      "cell_type": "code",
      "source": [
        "X_train[0].shape"
      ],
      "metadata": {
        "colab": {
          "base_uri": "https://localhost:8080/"
        },
        "id": "T4yRx-PxF3Hf",
        "outputId": "cd738293-aed3-4ade-83c4-663d3ca50250"
      },
      "execution_count": null,
      "outputs": [
        {
          "output_type": "execute_result",
          "data": {
            "text/plain": [
              "(78,)"
            ]
          },
          "metadata": {},
          "execution_count": 44
        }
      ]
    },
    {
      "cell_type": "code",
      "source": [
        "matrix = np.corrcoef(check1,check2)"
      ],
      "metadata": {
        "id": "sY_58xwdGEOZ"
      },
      "execution_count": null,
      "outputs": []
    },
    {
      "cell_type": "code",
      "source": [
        "matrix"
      ],
      "metadata": {
        "colab": {
          "base_uri": "https://localhost:8080/"
        },
        "id": "xL6nFc22Gee-",
        "outputId": "96dbb495-c001-4489-80f7-6acc0fc1ce5b"
      },
      "execution_count": null,
      "outputs": [
        {
          "output_type": "execute_result",
          "data": {
            "text/plain": [
              "array([[1.        , 0.64177168],\n",
              "       [0.64177168, 1.        ]])"
            ]
          },
          "metadata": {},
          "execution_count": 48
        }
      ]
    },
    {
      "cell_type": "code",
      "source": [
        "fd=X.iloc[:10,:]\n",
        "fd"
      ],
      "metadata": {
        "colab": {
          "base_uri": "https://localhost:8080/",
          "height": 363
        },
        "id": "u7Z3Nl-_Grs9",
        "outputId": "fc724d4c-b439-4321-a506-436a2128d708"
      },
      "execution_count": null,
      "outputs": [
        {
          "output_type": "execute_result",
          "data": {
            "text/plain": [
              "   danceability  energy  key  loudness  mode  speechiness  acousticness  \\\n",
              "0         0.831   0.814    2    -7.364     1       0.4200        0.0598   \n",
              "1         0.719   0.493    8    -7.230     1       0.0794        0.4010   \n",
              "2         0.850   0.893    5    -4.783     1       0.0623        0.0138   \n",
              "3         0.476   0.781    0    -4.710     1       0.1030        0.0237   \n",
              "4         0.798   0.624    2    -7.668     1       0.2930        0.2170   \n",
              "5         0.721   0.568    0   -11.295     1       0.4140        0.0452   \n",
              "6         0.718   0.668    8    -4.162     1       0.1370        0.0254   \n",
              "7         0.694   0.711    8    -5.525     1       0.2210        0.0397   \n",
              "8         0.774   0.751    1    -2.445     1       0.1980        0.0614   \n",
              "9         0.893   0.907   11   -10.406     1       0.3670        0.1520   \n",
              "\n",
              "   instrumentalness  liveness  valence  \n",
              "0          0.013400    0.0556   0.3890  \n",
              "1          0.000000    0.1180   0.1240  \n",
              "2          0.000004    0.3720   0.0391  \n",
              "3          0.000000    0.1140   0.1750  \n",
              "4          0.000000    0.1660   0.5910  \n",
              "5          0.212000    0.1280   0.1090  \n",
              "6          0.007800    0.1240   0.0380  \n",
              "7          0.000000    0.1120   0.2830  \n",
              "8          0.000000    0.0728   0.1890  \n",
              "9          0.031100    0.5580   0.3020  "
            ],
            "text/html": [
              "\n",
              "  <div id=\"df-cb858a3d-cdcf-4837-b63a-6c1cb4ae7a34\">\n",
              "    <div class=\"colab-df-container\">\n",
              "      <div>\n",
              "<style scoped>\n",
              "    .dataframe tbody tr th:only-of-type {\n",
              "        vertical-align: middle;\n",
              "    }\n",
              "\n",
              "    .dataframe tbody tr th {\n",
              "        vertical-align: top;\n",
              "    }\n",
              "\n",
              "    .dataframe thead th {\n",
              "        text-align: right;\n",
              "    }\n",
              "</style>\n",
              "<table border=\"1\" class=\"dataframe\">\n",
              "  <thead>\n",
              "    <tr style=\"text-align: right;\">\n",
              "      <th></th>\n",
              "      <th>danceability</th>\n",
              "      <th>energy</th>\n",
              "      <th>key</th>\n",
              "      <th>loudness</th>\n",
              "      <th>mode</th>\n",
              "      <th>speechiness</th>\n",
              "      <th>acousticness</th>\n",
              "      <th>instrumentalness</th>\n",
              "      <th>liveness</th>\n",
              "      <th>valence</th>\n",
              "    </tr>\n",
              "  </thead>\n",
              "  <tbody>\n",
              "    <tr>\n",
              "      <th>0</th>\n",
              "      <td>0.831</td>\n",
              "      <td>0.814</td>\n",
              "      <td>2</td>\n",
              "      <td>-7.364</td>\n",
              "      <td>1</td>\n",
              "      <td>0.4200</td>\n",
              "      <td>0.0598</td>\n",
              "      <td>0.013400</td>\n",
              "      <td>0.0556</td>\n",
              "      <td>0.3890</td>\n",
              "    </tr>\n",
              "    <tr>\n",
              "      <th>1</th>\n",
              "      <td>0.719</td>\n",
              "      <td>0.493</td>\n",
              "      <td>8</td>\n",
              "      <td>-7.230</td>\n",
              "      <td>1</td>\n",
              "      <td>0.0794</td>\n",
              "      <td>0.4010</td>\n",
              "      <td>0.000000</td>\n",
              "      <td>0.1180</td>\n",
              "      <td>0.1240</td>\n",
              "    </tr>\n",
              "    <tr>\n",
              "      <th>2</th>\n",
              "      <td>0.850</td>\n",
              "      <td>0.893</td>\n",
              "      <td>5</td>\n",
              "      <td>-4.783</td>\n",
              "      <td>1</td>\n",
              "      <td>0.0623</td>\n",
              "      <td>0.0138</td>\n",
              "      <td>0.000004</td>\n",
              "      <td>0.3720</td>\n",
              "      <td>0.0391</td>\n",
              "    </tr>\n",
              "    <tr>\n",
              "      <th>3</th>\n",
              "      <td>0.476</td>\n",
              "      <td>0.781</td>\n",
              "      <td>0</td>\n",
              "      <td>-4.710</td>\n",
              "      <td>1</td>\n",
              "      <td>0.1030</td>\n",
              "      <td>0.0237</td>\n",
              "      <td>0.000000</td>\n",
              "      <td>0.1140</td>\n",
              "      <td>0.1750</td>\n",
              "    </tr>\n",
              "    <tr>\n",
              "      <th>4</th>\n",
              "      <td>0.798</td>\n",
              "      <td>0.624</td>\n",
              "      <td>2</td>\n",
              "      <td>-7.668</td>\n",
              "      <td>1</td>\n",
              "      <td>0.2930</td>\n",
              "      <td>0.2170</td>\n",
              "      <td>0.000000</td>\n",
              "      <td>0.1660</td>\n",
              "      <td>0.5910</td>\n",
              "    </tr>\n",
              "    <tr>\n",
              "      <th>5</th>\n",
              "      <td>0.721</td>\n",
              "      <td>0.568</td>\n",
              "      <td>0</td>\n",
              "      <td>-11.295</td>\n",
              "      <td>1</td>\n",
              "      <td>0.4140</td>\n",
              "      <td>0.0452</td>\n",
              "      <td>0.212000</td>\n",
              "      <td>0.1280</td>\n",
              "      <td>0.1090</td>\n",
              "    </tr>\n",
              "    <tr>\n",
              "      <th>6</th>\n",
              "      <td>0.718</td>\n",
              "      <td>0.668</td>\n",
              "      <td>8</td>\n",
              "      <td>-4.162</td>\n",
              "      <td>1</td>\n",
              "      <td>0.1370</td>\n",
              "      <td>0.0254</td>\n",
              "      <td>0.007800</td>\n",
              "      <td>0.1240</td>\n",
              "      <td>0.0380</td>\n",
              "    </tr>\n",
              "    <tr>\n",
              "      <th>7</th>\n",
              "      <td>0.694</td>\n",
              "      <td>0.711</td>\n",
              "      <td>8</td>\n",
              "      <td>-5.525</td>\n",
              "      <td>1</td>\n",
              "      <td>0.2210</td>\n",
              "      <td>0.0397</td>\n",
              "      <td>0.000000</td>\n",
              "      <td>0.1120</td>\n",
              "      <td>0.2830</td>\n",
              "    </tr>\n",
              "    <tr>\n",
              "      <th>8</th>\n",
              "      <td>0.774</td>\n",
              "      <td>0.751</td>\n",
              "      <td>1</td>\n",
              "      <td>-2.445</td>\n",
              "      <td>1</td>\n",
              "      <td>0.1980</td>\n",
              "      <td>0.0614</td>\n",
              "      <td>0.000000</td>\n",
              "      <td>0.0728</td>\n",
              "      <td>0.1890</td>\n",
              "    </tr>\n",
              "    <tr>\n",
              "      <th>9</th>\n",
              "      <td>0.893</td>\n",
              "      <td>0.907</td>\n",
              "      <td>11</td>\n",
              "      <td>-10.406</td>\n",
              "      <td>1</td>\n",
              "      <td>0.3670</td>\n",
              "      <td>0.1520</td>\n",
              "      <td>0.031100</td>\n",
              "      <td>0.5580</td>\n",
              "      <td>0.3020</td>\n",
              "    </tr>\n",
              "  </tbody>\n",
              "</table>\n",
              "</div>\n",
              "      <button class=\"colab-df-convert\" onclick=\"convertToInteractive('df-cb858a3d-cdcf-4837-b63a-6c1cb4ae7a34')\"\n",
              "              title=\"Convert this dataframe to an interactive table.\"\n",
              "              style=\"display:none;\">\n",
              "        \n",
              "  <svg xmlns=\"http://www.w3.org/2000/svg\" height=\"24px\"viewBox=\"0 0 24 24\"\n",
              "       width=\"24px\">\n",
              "    <path d=\"M0 0h24v24H0V0z\" fill=\"none\"/>\n",
              "    <path d=\"M18.56 5.44l.94 2.06.94-2.06 2.06-.94-2.06-.94-.94-2.06-.94 2.06-2.06.94zm-11 1L8.5 8.5l.94-2.06 2.06-.94-2.06-.94L8.5 2.5l-.94 2.06-2.06.94zm10 10l.94 2.06.94-2.06 2.06-.94-2.06-.94-.94-2.06-.94 2.06-2.06.94z\"/><path d=\"M17.41 7.96l-1.37-1.37c-.4-.4-.92-.59-1.43-.59-.52 0-1.04.2-1.43.59L10.3 9.45l-7.72 7.72c-.78.78-.78 2.05 0 2.83L4 21.41c.39.39.9.59 1.41.59.51 0 1.02-.2 1.41-.59l7.78-7.78 2.81-2.81c.8-.78.8-2.07 0-2.86zM5.41 20L4 18.59l7.72-7.72 1.47 1.35L5.41 20z\"/>\n",
              "  </svg>\n",
              "      </button>\n",
              "      \n",
              "  <style>\n",
              "    .colab-df-container {\n",
              "      display:flex;\n",
              "      flex-wrap:wrap;\n",
              "      gap: 12px;\n",
              "    }\n",
              "\n",
              "    .colab-df-convert {\n",
              "      background-color: #E8F0FE;\n",
              "      border: none;\n",
              "      border-radius: 50%;\n",
              "      cursor: pointer;\n",
              "      display: none;\n",
              "      fill: #1967D2;\n",
              "      height: 32px;\n",
              "      padding: 0 0 0 0;\n",
              "      width: 32px;\n",
              "    }\n",
              "\n",
              "    .colab-df-convert:hover {\n",
              "      background-color: #E2EBFA;\n",
              "      box-shadow: 0px 1px 2px rgba(60, 64, 67, 0.3), 0px 1px 3px 1px rgba(60, 64, 67, 0.15);\n",
              "      fill: #174EA6;\n",
              "    }\n",
              "\n",
              "    [theme=dark] .colab-df-convert {\n",
              "      background-color: #3B4455;\n",
              "      fill: #D2E3FC;\n",
              "    }\n",
              "\n",
              "    [theme=dark] .colab-df-convert:hover {\n",
              "      background-color: #434B5C;\n",
              "      box-shadow: 0px 1px 3px 1px rgba(0, 0, 0, 0.15);\n",
              "      filter: drop-shadow(0px 1px 2px rgba(0, 0, 0, 0.3));\n",
              "      fill: #FFFFFF;\n",
              "    }\n",
              "  </style>\n",
              "\n",
              "      <script>\n",
              "        const buttonEl =\n",
              "          document.querySelector('#df-cb858a3d-cdcf-4837-b63a-6c1cb4ae7a34 button.colab-df-convert');\n",
              "        buttonEl.style.display =\n",
              "          google.colab.kernel.accessAllowed ? 'block' : 'none';\n",
              "\n",
              "        async function convertToInteractive(key) {\n",
              "          const element = document.querySelector('#df-cb858a3d-cdcf-4837-b63a-6c1cb4ae7a34');\n",
              "          const dataTable =\n",
              "            await google.colab.kernel.invokeFunction('convertToInteractive',\n",
              "                                                     [key], {});\n",
              "          if (!dataTable) return;\n",
              "\n",
              "          const docLinkHtml = 'Like what you see? Visit the ' +\n",
              "            '<a target=\"_blank\" href=https://colab.research.google.com/notebooks/data_table.ipynb>data table notebook</a>'\n",
              "            + ' to learn more about interactive tables.';\n",
              "          element.innerHTML = '';\n",
              "          dataTable['output_type'] = 'display_data';\n",
              "          await google.colab.output.renderOutput(dataTable, element);\n",
              "          const docLink = document.createElement('div');\n",
              "          docLink.innerHTML = docLinkHtml;\n",
              "          element.appendChild(docLink);\n",
              "        }\n",
              "      </script>\n",
              "    </div>\n",
              "  </div>\n",
              "  "
            ]
          },
          "metadata": {},
          "execution_count": 80
        }
      ]
    },
    {
      "cell_type": "code",
      "source": [
        "matrix = fd.corr().abs()"
      ],
      "metadata": {
        "id": "5RvS9_ccG6Bs"
      },
      "execution_count": null,
      "outputs": []
    },
    {
      "cell_type": "code",
      "source": [
        "matrix"
      ],
      "metadata": {
        "colab": {
          "base_uri": "https://localhost:8080/",
          "height": 363
        },
        "id": "5VKghioSHQtc",
        "outputId": "ea4027db-16bc-40b9-fd38-f790b74fbb43"
      },
      "execution_count": null,
      "outputs": [
        {
          "output_type": "execute_result",
          "data": {
            "text/plain": [
              "                  danceability    energy       key  loudness  mode  \\\n",
              "danceability          1.000000  0.316611  0.363720  0.301212   NaN   \n",
              "energy                0.316611  1.000000  0.122863  0.175869   NaN   \n",
              "key                   0.363720  0.122863  1.000000  0.110271   NaN   \n",
              "loudness              0.301212  0.175869  0.110271  1.000000   NaN   \n",
              "mode                       NaN       NaN       NaN       NaN   NaN   \n",
              "speechiness           0.405822  0.064717  0.172713  0.702522   NaN   \n",
              "acousticness          0.150706  0.546291  0.318605  0.303664   NaN   \n",
              "instrumentalness      0.002577  0.321123  0.318646  0.674513   NaN   \n",
              "liveness              0.527557  0.578887  0.552522  0.372133   NaN   \n",
              "valence               0.252185  0.038693  0.136727  0.272208   NaN   \n",
              "\n",
              "                  speechiness  acousticness  instrumentalness  liveness  \\\n",
              "danceability         0.405822      0.150706          0.002577  0.527557   \n",
              "energy               0.064717      0.546291          0.321123  0.578887   \n",
              "key                  0.172713      0.318605          0.318646  0.552522   \n",
              "loudness             0.702522      0.303664          0.674513  0.372133   \n",
              "mode                      NaN           NaN               NaN       NaN   \n",
              "speechiness          1.000000      0.103503          0.555305  0.063863   \n",
              "acousticness         0.103503      1.000000          0.166871  0.045941   \n",
              "instrumentalness     0.555305      0.166871          1.000000  0.020326   \n",
              "liveness             0.063863      0.045941          0.020326  1.000000   \n",
              "valence              0.536774      0.251938          0.206985  0.024889   \n",
              "\n",
              "                   valence  \n",
              "danceability      0.252185  \n",
              "energy            0.038693  \n",
              "key               0.136727  \n",
              "loudness          0.272208  \n",
              "mode                   NaN  \n",
              "speechiness       0.536774  \n",
              "acousticness      0.251938  \n",
              "instrumentalness  0.206985  \n",
              "liveness          0.024889  \n",
              "valence           1.000000  "
            ],
            "text/html": [
              "\n",
              "  <div id=\"df-ba43d2db-1451-49cb-b9ff-639fda5cced2\">\n",
              "    <div class=\"colab-df-container\">\n",
              "      <div>\n",
              "<style scoped>\n",
              "    .dataframe tbody tr th:only-of-type {\n",
              "        vertical-align: middle;\n",
              "    }\n",
              "\n",
              "    .dataframe tbody tr th {\n",
              "        vertical-align: top;\n",
              "    }\n",
              "\n",
              "    .dataframe thead th {\n",
              "        text-align: right;\n",
              "    }\n",
              "</style>\n",
              "<table border=\"1\" class=\"dataframe\">\n",
              "  <thead>\n",
              "    <tr style=\"text-align: right;\">\n",
              "      <th></th>\n",
              "      <th>danceability</th>\n",
              "      <th>energy</th>\n",
              "      <th>key</th>\n",
              "      <th>loudness</th>\n",
              "      <th>mode</th>\n",
              "      <th>speechiness</th>\n",
              "      <th>acousticness</th>\n",
              "      <th>instrumentalness</th>\n",
              "      <th>liveness</th>\n",
              "      <th>valence</th>\n",
              "    </tr>\n",
              "  </thead>\n",
              "  <tbody>\n",
              "    <tr>\n",
              "      <th>danceability</th>\n",
              "      <td>1.000000</td>\n",
              "      <td>0.316611</td>\n",
              "      <td>0.363720</td>\n",
              "      <td>0.301212</td>\n",
              "      <td>NaN</td>\n",
              "      <td>0.405822</td>\n",
              "      <td>0.150706</td>\n",
              "      <td>0.002577</td>\n",
              "      <td>0.527557</td>\n",
              "      <td>0.252185</td>\n",
              "    </tr>\n",
              "    <tr>\n",
              "      <th>energy</th>\n",
              "      <td>0.316611</td>\n",
              "      <td>1.000000</td>\n",
              "      <td>0.122863</td>\n",
              "      <td>0.175869</td>\n",
              "      <td>NaN</td>\n",
              "      <td>0.064717</td>\n",
              "      <td>0.546291</td>\n",
              "      <td>0.321123</td>\n",
              "      <td>0.578887</td>\n",
              "      <td>0.038693</td>\n",
              "    </tr>\n",
              "    <tr>\n",
              "      <th>key</th>\n",
              "      <td>0.363720</td>\n",
              "      <td>0.122863</td>\n",
              "      <td>1.000000</td>\n",
              "      <td>0.110271</td>\n",
              "      <td>NaN</td>\n",
              "      <td>0.172713</td>\n",
              "      <td>0.318605</td>\n",
              "      <td>0.318646</td>\n",
              "      <td>0.552522</td>\n",
              "      <td>0.136727</td>\n",
              "    </tr>\n",
              "    <tr>\n",
              "      <th>loudness</th>\n",
              "      <td>0.301212</td>\n",
              "      <td>0.175869</td>\n",
              "      <td>0.110271</td>\n",
              "      <td>1.000000</td>\n",
              "      <td>NaN</td>\n",
              "      <td>0.702522</td>\n",
              "      <td>0.303664</td>\n",
              "      <td>0.674513</td>\n",
              "      <td>0.372133</td>\n",
              "      <td>0.272208</td>\n",
              "    </tr>\n",
              "    <tr>\n",
              "      <th>mode</th>\n",
              "      <td>NaN</td>\n",
              "      <td>NaN</td>\n",
              "      <td>NaN</td>\n",
              "      <td>NaN</td>\n",
              "      <td>NaN</td>\n",
              "      <td>NaN</td>\n",
              "      <td>NaN</td>\n",
              "      <td>NaN</td>\n",
              "      <td>NaN</td>\n",
              "      <td>NaN</td>\n",
              "    </tr>\n",
              "    <tr>\n",
              "      <th>speechiness</th>\n",
              "      <td>0.405822</td>\n",
              "      <td>0.064717</td>\n",
              "      <td>0.172713</td>\n",
              "      <td>0.702522</td>\n",
              "      <td>NaN</td>\n",
              "      <td>1.000000</td>\n",
              "      <td>0.103503</td>\n",
              "      <td>0.555305</td>\n",
              "      <td>0.063863</td>\n",
              "      <td>0.536774</td>\n",
              "    </tr>\n",
              "    <tr>\n",
              "      <th>acousticness</th>\n",
              "      <td>0.150706</td>\n",
              "      <td>0.546291</td>\n",
              "      <td>0.318605</td>\n",
              "      <td>0.303664</td>\n",
              "      <td>NaN</td>\n",
              "      <td>0.103503</td>\n",
              "      <td>1.000000</td>\n",
              "      <td>0.166871</td>\n",
              "      <td>0.045941</td>\n",
              "      <td>0.251938</td>\n",
              "    </tr>\n",
              "    <tr>\n",
              "      <th>instrumentalness</th>\n",
              "      <td>0.002577</td>\n",
              "      <td>0.321123</td>\n",
              "      <td>0.318646</td>\n",
              "      <td>0.674513</td>\n",
              "      <td>NaN</td>\n",
              "      <td>0.555305</td>\n",
              "      <td>0.166871</td>\n",
              "      <td>1.000000</td>\n",
              "      <td>0.020326</td>\n",
              "      <td>0.206985</td>\n",
              "    </tr>\n",
              "    <tr>\n",
              "      <th>liveness</th>\n",
              "      <td>0.527557</td>\n",
              "      <td>0.578887</td>\n",
              "      <td>0.552522</td>\n",
              "      <td>0.372133</td>\n",
              "      <td>NaN</td>\n",
              "      <td>0.063863</td>\n",
              "      <td>0.045941</td>\n",
              "      <td>0.020326</td>\n",
              "      <td>1.000000</td>\n",
              "      <td>0.024889</td>\n",
              "    </tr>\n",
              "    <tr>\n",
              "      <th>valence</th>\n",
              "      <td>0.252185</td>\n",
              "      <td>0.038693</td>\n",
              "      <td>0.136727</td>\n",
              "      <td>0.272208</td>\n",
              "      <td>NaN</td>\n",
              "      <td>0.536774</td>\n",
              "      <td>0.251938</td>\n",
              "      <td>0.206985</td>\n",
              "      <td>0.024889</td>\n",
              "      <td>1.000000</td>\n",
              "    </tr>\n",
              "  </tbody>\n",
              "</table>\n",
              "</div>\n",
              "      <button class=\"colab-df-convert\" onclick=\"convertToInteractive('df-ba43d2db-1451-49cb-b9ff-639fda5cced2')\"\n",
              "              title=\"Convert this dataframe to an interactive table.\"\n",
              "              style=\"display:none;\">\n",
              "        \n",
              "  <svg xmlns=\"http://www.w3.org/2000/svg\" height=\"24px\"viewBox=\"0 0 24 24\"\n",
              "       width=\"24px\">\n",
              "    <path d=\"M0 0h24v24H0V0z\" fill=\"none\"/>\n",
              "    <path d=\"M18.56 5.44l.94 2.06.94-2.06 2.06-.94-2.06-.94-.94-2.06-.94 2.06-2.06.94zm-11 1L8.5 8.5l.94-2.06 2.06-.94-2.06-.94L8.5 2.5l-.94 2.06-2.06.94zm10 10l.94 2.06.94-2.06 2.06-.94-2.06-.94-.94-2.06-.94 2.06-2.06.94z\"/><path d=\"M17.41 7.96l-1.37-1.37c-.4-.4-.92-.59-1.43-.59-.52 0-1.04.2-1.43.59L10.3 9.45l-7.72 7.72c-.78.78-.78 2.05 0 2.83L4 21.41c.39.39.9.59 1.41.59.51 0 1.02-.2 1.41-.59l7.78-7.78 2.81-2.81c.8-.78.8-2.07 0-2.86zM5.41 20L4 18.59l7.72-7.72 1.47 1.35L5.41 20z\"/>\n",
              "  </svg>\n",
              "      </button>\n",
              "      \n",
              "  <style>\n",
              "    .colab-df-container {\n",
              "      display:flex;\n",
              "      flex-wrap:wrap;\n",
              "      gap: 12px;\n",
              "    }\n",
              "\n",
              "    .colab-df-convert {\n",
              "      background-color: #E8F0FE;\n",
              "      border: none;\n",
              "      border-radius: 50%;\n",
              "      cursor: pointer;\n",
              "      display: none;\n",
              "      fill: #1967D2;\n",
              "      height: 32px;\n",
              "      padding: 0 0 0 0;\n",
              "      width: 32px;\n",
              "    }\n",
              "\n",
              "    .colab-df-convert:hover {\n",
              "      background-color: #E2EBFA;\n",
              "      box-shadow: 0px 1px 2px rgba(60, 64, 67, 0.3), 0px 1px 3px 1px rgba(60, 64, 67, 0.15);\n",
              "      fill: #174EA6;\n",
              "    }\n",
              "\n",
              "    [theme=dark] .colab-df-convert {\n",
              "      background-color: #3B4455;\n",
              "      fill: #D2E3FC;\n",
              "    }\n",
              "\n",
              "    [theme=dark] .colab-df-convert:hover {\n",
              "      background-color: #434B5C;\n",
              "      box-shadow: 0px 1px 3px 1px rgba(0, 0, 0, 0.15);\n",
              "      filter: drop-shadow(0px 1px 2px rgba(0, 0, 0, 0.3));\n",
              "      fill: #FFFFFF;\n",
              "    }\n",
              "  </style>\n",
              "\n",
              "      <script>\n",
              "        const buttonEl =\n",
              "          document.querySelector('#df-ba43d2db-1451-49cb-b9ff-639fda5cced2 button.colab-df-convert');\n",
              "        buttonEl.style.display =\n",
              "          google.colab.kernel.accessAllowed ? 'block' : 'none';\n",
              "\n",
              "        async function convertToInteractive(key) {\n",
              "          const element = document.querySelector('#df-ba43d2db-1451-49cb-b9ff-639fda5cced2');\n",
              "          const dataTable =\n",
              "            await google.colab.kernel.invokeFunction('convertToInteractive',\n",
              "                                                     [key], {});\n",
              "          if (!dataTable) return;\n",
              "\n",
              "          const docLinkHtml = 'Like what you see? Visit the ' +\n",
              "            '<a target=\"_blank\" href=https://colab.research.google.com/notebooks/data_table.ipynb>data table notebook</a>'\n",
              "            + ' to learn more about interactive tables.';\n",
              "          element.innerHTML = '';\n",
              "          dataTable['output_type'] = 'display_data';\n",
              "          await google.colab.output.renderOutput(dataTable, element);\n",
              "          const docLink = document.createElement('div');\n",
              "          docLink.innerHTML = docLinkHtml;\n",
              "          element.appendChild(docLink);\n",
              "        }\n",
              "      </script>\n",
              "    </div>\n",
              "  </div>\n",
              "  "
            ]
          },
          "metadata": {},
          "execution_count": 82
        }
      ]
    },
    {
      "cell_type": "code",
      "source": [
        "sns.heatmap(matrix)"
      ],
      "metadata": {
        "colab": {
          "base_uri": "https://localhost:8080/",
          "height": 363
        },
        "id": "t7iV_ET_HkCw",
        "outputId": "42f0519a-895d-48c4-8695-b384aefb195c"
      },
      "execution_count": null,
      "outputs": [
        {
          "output_type": "execute_result",
          "data": {
            "text/plain": [
              "<matplotlib.axes._subplots.AxesSubplot at 0x7efecebc4c50>"
            ]
          },
          "metadata": {},
          "execution_count": 61
        },
        {
          "output_type": "display_data",
          "data": {
            "text/plain": [
              "<Figure size 432x288 with 2 Axes>"
            ],
            "image/png": "[encoded data removed]"
          },
          "metadata": {
            "needs_background": "light"
          }
        }
      ]
    },
    {
      "cell_type": "code",
      "source": [
        "upper_tri = matrix.where(np.triu(np.ones(matrix.shape),k=1).astype(np.bool))"
      ],
      "metadata": {
        "id": "UnwEY0vtHspC"
      },
      "execution_count": null,
      "outputs": []
    },
    {
      "cell_type": "code",
      "source": [
        "print(upper_tri)"
      ],
      "metadata": {
        "colab": {
          "base_uri": "https://localhost:8080/"
        },
        "id": "Gz6SsnEnIGyh",
        "outputId": "bc54c8f0-fdce-443c-b2b8-8c91368f133f"
      },
      "execution_count": null,
      "outputs": [
        {
          "output_type": "stream",
          "name": "stdout",
          "text": [
            "                  danceability  energy  key  loudness  mode  speechiness  \\\n",
            "danceability               NaN     1.0  1.0       1.0   NaN          1.0   \n",
            "energy                     NaN     NaN  1.0       1.0   NaN          1.0   \n",
            "key                        NaN     NaN  NaN       1.0   NaN          1.0   \n",
            "loudness                   NaN     NaN  NaN       NaN   NaN          1.0   \n",
            "mode                       NaN     NaN  NaN       NaN   NaN          NaN   \n",
            "speechiness                NaN     NaN  NaN       NaN   NaN          NaN   \n",
            "acousticness               NaN     NaN  NaN       NaN   NaN          NaN   \n",
            "instrumentalness           NaN     NaN  NaN       NaN   NaN          NaN   \n",
            "liveness                   NaN     NaN  NaN       NaN   NaN          NaN   \n",
            "valence                    NaN     NaN  NaN       NaN   NaN          NaN   \n",
            "\n",
            "                  acousticness  instrumentalness  liveness  valence  \n",
            "danceability               1.0               1.0       1.0      1.0  \n",
            "energy                     1.0               1.0       1.0      1.0  \n",
            "key                        1.0               1.0       1.0      1.0  \n",
            "loudness                   1.0               1.0       1.0      1.0  \n",
            "mode                       NaN               NaN       NaN      NaN  \n",
            "speechiness                1.0               1.0       1.0      1.0  \n",
            "acousticness               NaN               1.0       1.0      1.0  \n",
            "instrumentalness           NaN               NaN       1.0      1.0  \n",
            "liveness                   NaN               NaN       NaN      1.0  \n",
            "valence                    NaN               NaN       NaN      NaN  \n"
          ]
        }
      ]
    },
    {
      "cell_type": "code",
      "source": [
        "to_drop = [column for column in upper_tri.columns if any(upper_tri[column] > 0.95)]\n",
        "print(to_drop)"
      ],
      "metadata": {
        "colab": {
          "base_uri": "https://localhost:8080/"
        },
        "id": "eXqX-VqZIRWn",
        "outputId": "a17a931e-0722-4a26-825e-8454be7ffa7b"
      },
      "execution_count": null,
      "outputs": [
        {
          "output_type": "stream",
          "name": "stdout",
          "text": [
            "['energy', 'key', 'loudness', 'speechiness', 'acousticness', 'instrumentalness', 'liveness', 'valence']\n"
          ]
        }
      ]
    },
    {
      "cell_type": "code",
      "source": [
        "testing=X.iloc[42205:42305,:].values"
      ],
      "metadata": {
        "id": "7yNuYrsdJdmf"
      },
      "execution_count": null,
      "outputs": []
    },
    {
      "cell_type": "code",
      "source": [
        "trys=fd['danceability'].values"
      ],
      "metadata": {
        "id": "1mjb480_VU80"
      },
      "execution_count": null,
      "outputs": []
    },
    {
      "cell_type": "code",
      "source": [
        "fd['energy'].mean()"
      ],
      "metadata": {
        "colab": {
          "base_uri": "https://localhost:8080/"
        },
        "id": "ttX7CNafNBen",
        "outputId": "949671ca-0080-4d68-c0e1-703acd070d4c"
      },
      "execution_count": null,
      "outputs": [
        {
          "output_type": "execute_result",
          "data": {
            "text/plain": [
              "0.7210000000000001"
            ]
          },
          "metadata": {},
          "execution_count": 87
        }
      ]
    },
    {
      "cell_type": "code",
      "source": [
        "plt.plot(trys, 'o')"
      ],
      "metadata": {
        "colab": {
          "base_uri": "https://localhost:8080/",
          "height": 282
        },
        "id": "6voJvBoxTyM8",
        "outputId": "5ff9f244-a583-4bf5-80ec-672a0c0e740f"
      },
      "execution_count": null,
      "outputs": [
        {
          "output_type": "execute_result",
          "data": {
            "text/plain": [
              "[<matplotlib.lines.Line2D at 0x7efece9ba790>]"
            ]
          },
          "metadata": {},
          "execution_count": 92
        },
        {
          "output_type": "display_data",
          "data": {
            "text/plain": [
              "<Figure size 432x288 with 1 Axes>"
            ],
            "image/png": "[encoded data removed]"
          },
          "metadata": {
            "needs_background": "light"
          }
        }
      ]
    },
    {
      "cell_type": "code",
      "source": [
        "x = np.matrix(np.arange(12).reshape((3, 4)))\n",
        "\n"
      ],
      "metadata": {
        "id": "vrW1QgWwVqsg"
      },
      "execution_count": null,
      "outputs": []
    },
    {
      "cell_type": "code",
      "source": [
        "x"
      ],
      "metadata": {
        "colab": {
          "base_uri": "https://localhost:8080/"
        },
        "id": "46QPQ4LW0PzF",
        "outputId": "48bbd5dc-5252-4c08-e605-d5be27f2f27f"
      },
      "execution_count": null,
      "outputs": [
        {
          "output_type": "execute_result",
          "data": {
            "text/plain": [
              "matrix([[ 0,  1,  2,  3],\n",
              "        [ 4,  5,  6,  7],\n",
              "        [ 8,  9, 10, 11]])"
            ]
          },
          "metadata": {},
          "execution_count": 96
        }
      ]
    },
    {
      "cell_type": "code",
      "source": [
        "x.mean(axis=0)"
      ],
      "metadata": {
        "colab": {
          "base_uri": "https://localhost:8080/"
        },
        "id": "WgYtQHOM0Vjb",
        "outputId": "24709031-b307-4222-c22d-c65f3219e6f7"
      },
      "execution_count": null,
      "outputs": [
        {
          "output_type": "execute_result",
          "data": {
            "text/plain": [
              "matrix([[4., 5., 6., 7.]])"
            ]
          },
          "metadata": {},
          "execution_count": 97
        }
      ]
    },
    {
      "cell_type": "code",
      "source": [
        "fd"
      ],
      "metadata": {
        "colab": {
          "base_uri": "https://localhost:8080/",
          "height": 363
        },
        "id": "zd5idrOX0X_Q",
        "outputId": "86412a39-2c32-4c03-ffba-a50872f5a16a"
      },
      "execution_count": null,
      "outputs": [
        {
          "output_type": "execute_result",
          "data": {
            "text/plain": [
              "   danceability  energy  key  loudness  mode  speechiness  acousticness  \\\n",
              "0         0.831   0.814    2    -7.364     1       0.4200        0.0598   \n",
              "1         0.719   0.493    8    -7.230     1       0.0794        0.4010   \n",
              "2         0.850   0.893    5    -4.783     1       0.0623        0.0138   \n",
              "3         0.476   0.781    0    -4.710     1       0.1030        0.0237   \n",
              "4         0.798   0.624    2    -7.668     1       0.2930        0.2170   \n",
              "5         0.721   0.568    0   -11.295     1       0.4140        0.0452   \n",
              "6         0.718   0.668    8    -4.162     1       0.1370        0.0254   \n",
              "7         0.694   0.711    8    -5.525     1       0.2210        0.0397   \n",
              "8         0.774   0.751    1    -2.445     1       0.1980        0.0614   \n",
              "9         0.893   0.907   11   -10.406     1       0.3670        0.1520   \n",
              "\n",
              "   instrumentalness  liveness  valence  \n",
              "0          0.013400    0.0556   0.3890  \n",
              "1          0.000000    0.1180   0.1240  \n",
              "2          0.000004    0.3720   0.0391  \n",
              "3          0.000000    0.1140   0.1750  \n",
              "4          0.000000    0.1660   0.5910  \n",
              "5          0.212000    0.1280   0.1090  \n",
              "6          0.007800    0.1240   0.0380  \n",
              "7          0.000000    0.1120   0.2830  \n",
              "8          0.000000    0.0728   0.1890  \n",
              "9          0.031100    0.5580   0.3020  "
            ],
            "text/html": [
              "\n",
              "  <div id=\"df-283824ca-dc40-4b70-82c4-8ea61393493d\">\n",
              "    <div class=\"colab-df-container\">\n",
              "      <div>\n",
              "<style scoped>\n",
              "    .dataframe tbody tr th:only-of-type {\n",
              "        vertical-align: middle;\n",
              "    }\n",
              "\n",
              "    .dataframe tbody tr th {\n",
              "        vertical-align: top;\n",
              "    }\n",
              "\n",
              "    .dataframe thead th {\n",
              "        text-align: right;\n",
              "    }\n",
              "</style>\n",
              "<table border=\"1\" class=\"dataframe\">\n",
              "  <thead>\n",
              "    <tr style=\"text-align: right;\">\n",
              "      <th></th>\n",
              "      <th>danceability</th>\n",
              "      <th>energy</th>\n",
              "      <th>key</th>\n",
              "      <th>loudness</th>\n",
              "      <th>mode</th>\n",
              "      <th>speechiness</th>\n",
              "      <th>acousticness</th>\n",
              "      <th>instrumentalness</th>\n",
              "      <th>liveness</th>\n",
              "      <th>valence</th>\n",
              "    </tr>\n",
              "  </thead>\n",
              "  <tbody>\n",
              "    <tr>\n",
              "      <th>0</th>\n",
              "      <td>0.831</td>\n",
              "      <td>0.814</td>\n",
              "      <td>2</td>\n",
              "      <td>-7.364</td>\n",
              "      <td>1</td>\n",
              "      <td>0.4200</td>\n",
              "      <td>0.0598</td>\n",
              "      <td>0.013400</td>\n",
              "      <td>0.0556</td>\n",
              "      <td>0.3890</td>\n",
              "    </tr>\n",
              "    <tr>\n",
              "      <th>1</th>\n",
              "      <td>0.719</td>\n",
              "      <td>0.493</td>\n",
              "      <td>8</td>\n",
              "      <td>-7.230</td>\n",
              "      <td>1</td>\n",
              "      <td>0.0794</td>\n",
              "      <td>0.4010</td>\n",
              "      <td>0.000000</td>\n",
              "      <td>0.1180</td>\n",
              "      <td>0.1240</td>\n",
              "    </tr>\n",
              "    <tr>\n",
              "      <th>2</th>\n",
              "      <td>0.850</td>\n",
              "      <td>0.893</td>\n",
              "      <td>5</td>\n",
              "      <td>-4.783</td>\n",
              "      <td>1</td>\n",
              "      <td>0.0623</td>\n",
              "      <td>0.0138</td>\n",
              "      <td>0.000004</td>\n",
              "      <td>0.3720</td>\n",
              "      <td>0.0391</td>\n",
              "    </tr>\n",
              "    <tr>\n",
              "      <th>3</th>\n",
              "      <td>0.476</td>\n",
              "      <td>0.781</td>\n",
              "      <td>0</td>\n",
              "      <td>-4.710</td>\n",
              "      <td>1</td>\n",
              "      <td>0.1030</td>\n",
              "      <td>0.0237</td>\n",
              "      <td>0.000000</td>\n",
              "      <td>0.1140</td>\n",
              "      <td>0.1750</td>\n",
              "    </tr>\n",
              "    <tr>\n",
              "      <th>4</th>\n",
              "      <td>0.798</td>\n",
              "      <td>0.624</td>\n",
              "      <td>2</td>\n",
              "      <td>-7.668</td>\n",
              "      <td>1</td>\n",
              "      <td>0.2930</td>\n",
              "      <td>0.2170</td>\n",
              "      <td>0.000000</td>\n",
              "      <td>0.1660</td>\n",
              "      <td>0.5910</td>\n",
              "    </tr>\n",
              "    <tr>\n",
              "      <th>5</th>\n",
              "      <td>0.721</td>\n",
              "      <td>0.568</td>\n",
              "      <td>0</td>\n",
              "      <td>-11.295</td>\n",
              "      <td>1</td>\n",
              "      <td>0.4140</td>\n",
              "      <td>0.0452</td>\n",
              "      <td>0.212000</td>\n",
              "      <td>0.1280</td>\n",
              "      <td>0.1090</td>\n",
              "    </tr>\n",
              "    <tr>\n",
              "      <th>6</th>\n",
              "      <td>0.718</td>\n",
              "      <td>0.668</td>\n",
              "      <td>8</td>\n",
              "      <td>-4.162</td>\n",
              "      <td>1</td>\n",
              "      <td>0.1370</td>\n",
              "      <td>0.0254</td>\n",
              "      <td>0.007800</td>\n",
              "      <td>0.1240</td>\n",
              "      <td>0.0380</td>\n",
              "    </tr>\n",
              "    <tr>\n",
              "      <th>7</th>\n",
              "      <td>0.694</td>\n",
              "      <td>0.711</td>\n",
              "      <td>8</td>\n",
              "      <td>-5.525</td>\n",
              "      <td>1</td>\n",
              "      <td>0.2210</td>\n",
              "      <td>0.0397</td>\n",
              "      <td>0.000000</td>\n",
              "      <td>0.1120</td>\n",
              "      <td>0.2830</td>\n",
              "    </tr>\n",
              "    <tr>\n",
              "      <th>8</th>\n",
              "      <td>0.774</td>\n",
              "      <td>0.751</td>\n",
              "      <td>1</td>\n",
              "      <td>-2.445</td>\n",
              "      <td>1</td>\n",
              "      <td>0.1980</td>\n",
              "      <td>0.0614</td>\n",
              "      <td>0.000000</td>\n",
              "      <td>0.0728</td>\n",
              "      <td>0.1890</td>\n",
              "    </tr>\n",
              "    <tr>\n",
              "      <th>9</th>\n",
              "      <td>0.893</td>\n",
              "      <td>0.907</td>\n",
              "      <td>11</td>\n",
              "      <td>-10.406</td>\n",
              "      <td>1</td>\n",
              "      <td>0.3670</td>\n",
              "      <td>0.1520</td>\n",
              "      <td>0.031100</td>\n",
              "      <td>0.5580</td>\n",
              "      <td>0.3020</td>\n",
              "    </tr>\n",
              "  </tbody>\n",
              "</table>\n",
              "</div>\n",
              "      <button class=\"colab-df-convert\" onclick=\"convertToInteractive('df-283824ca-dc40-4b70-82c4-8ea61393493d')\"\n",
              "              title=\"Convert this dataframe to an interactive table.\"\n",
              "              style=\"display:none;\">\n",
              "        \n",
              "  <svg xmlns=\"http://www.w3.org/2000/svg\" height=\"24px\"viewBox=\"0 0 24 24\"\n",
              "       width=\"24px\">\n",
              "    <path d=\"M0 0h24v24H0V0z\" fill=\"none\"/>\n",
              "    <path d=\"M18.56 5.44l.94 2.06.94-2.06 2.06-.94-2.06-.94-.94-2.06-.94 2.06-2.06.94zm-11 1L8.5 8.5l.94-2.06 2.06-.94-2.06-.94L8.5 2.5l-.94 2.06-2.06.94zm10 10l.94 2.06.94-2.06 2.06-.94-2.06-.94-.94-2.06-.94 2.06-2.06.94z\"/><path d=\"M17.41 7.96l-1.37-1.37c-.4-.4-.92-.59-1.43-.59-.52 0-1.04.2-1.43.59L10.3 9.45l-7.72 7.72c-.78.78-.78 2.05 0 2.83L4 21.41c.39.39.9.59 1.41.59.51 0 1.02-.2 1.41-.59l7.78-7.78 2.81-2.81c.8-.78.8-2.07 0-2.86zM5.41 20L4 18.59l7.72-7.72 1.47 1.35L5.41 20z\"/>\n",
              "  </svg>\n",
              "      </button>\n",
              "      \n",
              "  <style>\n",
              "    .colab-df-container {\n",
              "      display:flex;\n",
              "      flex-wrap:wrap;\n",
              "      gap: 12px;\n",
              "    }\n",
              "\n",
              "    .colab-df-convert {\n",
              "      background-color: #E8F0FE;\n",
              "      border: none;\n",
              "      border-radius: 50%;\n",
              "      cursor: pointer;\n",
              "      display: none;\n",
              "      fill: #1967D2;\n",
              "      height: 32px;\n",
              "      padding: 0 0 0 0;\n",
              "      width: 32px;\n",
              "    }\n",
              "\n",
              "    .colab-df-convert:hover {\n",
              "      background-color: #E2EBFA;\n",
              "      box-shadow: 0px 1px 2px rgba(60, 64, 67, 0.3), 0px 1px 3px 1px rgba(60, 64, 67, 0.15);\n",
              "      fill: #174EA6;\n",
              "    }\n",
              "\n",
              "    [theme=dark] .colab-df-convert {\n",
              "      background-color: #3B4455;\n",
              "      fill: #D2E3FC;\n",
              "    }\n",
              "\n",
              "    [theme=dark] .colab-df-convert:hover {\n",
              "      background-color: #434B5C;\n",
              "      box-shadow: 0px 1px 3px 1px rgba(0, 0, 0, 0.15);\n",
              "      filter: drop-shadow(0px 1px 2px rgba(0, 0, 0, 0.3));\n",
              "      fill: #FFFFFF;\n",
              "    }\n",
              "  </style>\n",
              "\n",
              "      <script>\n",
              "        const buttonEl =\n",
              "          document.querySelector('#df-283824ca-dc40-4b70-82c4-8ea61393493d button.colab-df-convert');\n",
              "        buttonEl.style.display =\n",
              "          google.colab.kernel.accessAllowed ? 'block' : 'none';\n",
              "\n",
              "        async function convertToInteractive(key) {\n",
              "          const element = document.querySelector('#df-283824ca-dc40-4b70-82c4-8ea61393493d');\n",
              "          const dataTable =\n",
              "            await google.colab.kernel.invokeFunction('convertToInteractive',\n",
              "                                                     [key], {});\n",
              "          if (!dataTable) return;\n",
              "\n",
              "          const docLinkHtml = 'Like what you see? Visit the ' +\n",
              "            '<a target=\"_blank\" href=https://colab.research.google.com/notebooks/data_table.ipynb>data table notebook</a>'\n",
              "            + ' to learn more about interactive tables.';\n",
              "          element.innerHTML = '';\n",
              "          dataTable['output_type'] = 'display_data';\n",
              "          await google.colab.output.renderOutput(dataTable, element);\n",
              "          const docLink = document.createElement('div');\n",
              "          docLink.innerHTML = docLinkHtml;\n",
              "          element.appendChild(docLink);\n",
              "        }\n",
              "      </script>\n",
              "    </div>\n",
              "  </div>\n",
              "  "
            ]
          },
          "metadata": {},
          "execution_count": 98
        }
      ]
    },
    {
      "cell_type": "code",
      "source": [
        "fd=fd.to_numpy()"
      ],
      "metadata": {
        "id": "NLxCZyTs0nDV"
      },
      "execution_count": null,
      "outputs": []
    },
    {
      "cell_type": "code",
      "source": [
        "p=fd.mean(axis=0) #columnwise mean\n",
        "p.shape\n",
        "p=p.reshape(10,1)\n",
        "p.shape"
      ],
      "metadata": {
        "colab": {
          "base_uri": "https://localhost:8080/"
        },
        "id": "vFsDQCAw01Hd",
        "outputId": "b141f9bd-1057-421b-ec2a-4849defbe310"
      },
      "execution_count": null,
      "outputs": [
        {
          "output_type": "execute_result",
          "data": {
            "text/plain": [
              "(10, 1)"
            ]
          },
          "metadata": {},
          "execution_count": 108
        }
      ]
    },
    {
      "cell_type": "code",
      "source": [
        "from scipy.spatial.distance import cdist\n",
        "distances = cdist(X, p, 'cosine')\n",
        "index = list(np.argsort(distances)[:, :10][0])"
      ],
      "metadata": {
        "id": "KcFnE6tK06oz"
      },
      "execution_count": null,
      "outputs": []
    },
    {
      "cell_type": "code",
      "source": [
        "X=X.values"
      ],
      "metadata": {
        "id": "LMWuARUa34DH"
      },
      "execution_count": null,
      "outputs": []
    },
    {
      "cell_type": "code",
      "source": [
        "X.shape"
      ],
      "metadata": {
        "colab": {
          "base_uri": "https://localhost:8080/"
        },
        "id": "HtIufSbG4Q6B",
        "outputId": "f8ed380e-f90b-4cf6-adce-1185be08ef1c"
      },
      "execution_count": null,
      "outputs": [
        {
          "output_type": "execute_result",
          "data": {
            "text/plain": [
              "(21519, 10)"
            ]
          },
          "metadata": {},
          "execution_count": 120
        }
      ]
    },
    {
      "cell_type": "code",
      "source": [
        "p=p.transpose()\n"
      ],
      "metadata": {
        "id": "RhsFAMvA4ZC4"
      },
      "execution_count": null,
      "outputs": []
    },
    {
      "cell_type": "code",
      "source": [
        "p.shape"
      ],
      "metadata": {
        "colab": {
          "base_uri": "https://localhost:8080/"
        },
        "id": "2e79O9tU4dRt",
        "outputId": "d5888d0f-ae2c-44fb-aaa0-1db024cea06f"
      },
      "execution_count": null,
      "outputs": [
        {
          "output_type": "execute_result",
          "data": {
            "text/plain": [
              "(1, 10)"
            ]
          },
          "metadata": {},
          "execution_count": 122
        }
      ]
    },
    {
      "cell_type": "code",
      "source": [
        "dict={'a':2,'b':3}"
      ],
      "metadata": {
        "id": "m49bgcYK4fpy"
      },
      "execution_count": null,
      "outputs": []
    },
    {
      "cell_type": "code",
      "source": [
        "dict['c']=4"
      ],
      "metadata": {
        "id": "750Ak4LPa2TZ"
      },
      "execution_count": null,
      "outputs": []
    },
    {
      "cell_type": "code",
      "source": [
        "dict['a']=dict['a']+1"
      ],
      "metadata": {
        "id": "bYrILAgga9SN"
      },
      "execution_count": null,
      "outputs": []
    },
    {
      "cell_type": "code",
      "source": [
        "dict['a']"
      ],
      "metadata": {
        "colab": {
          "base_uri": "https://localhost:8080/"
        },
        "id": "FEOcSVU0bBkn",
        "outputId": "8a2ed56e-3485-4752-8b07-357ce0d6003d"
      },
      "execution_count": null,
      "outputs": [
        {
          "output_type": "execute_result",
          "data": {
            "text/plain": [
              "3"
            ]
          },
          "metadata": {},
          "execution_count": 4
        }
      ]
    },
    {
      "cell_type": "code",
      "source": [
        "dict={}\n",
        "print(dict.get('a'))\n",
        "if(dict.get('a')is None):\n",
        "  print(\"entering\")\n",
        "  dict['a']=1\n",
        "\n",
        "dict"
      ],
      "metadata": {
        "colab": {
          "base_uri": "https://localhost:8080/"
        },
        "id": "Kai6b-ayyZk0",
        "outputId": "0eee9807-0770-43b2-bce0-50aafd27754a"
      },
      "execution_count": null,
      "outputs": [
        {
          "output_type": "stream",
          "name": "stdout",
          "text": [
            "None\n",
            "entering\n"
          ]
        },
        {
          "output_type": "execute_result",
          "data": {
            "text/plain": [
              "{'a': 1}"
            ]
          },
          "metadata": {},
          "execution_count": 101
        }
      ]
    },
    {
      "cell_type": "code",
      "source": [
        "if(dict.get('d') is not None):\n",
        "  print(\"False\")"
      ],
      "metadata": {
        "id": "HAk5j6RPbCzC"
      },
      "execution_count": null,
      "outputs": []
    },
    {
      "cell_type": "code",
      "source": [
        "x='f'\n",
        "dict[x]=5\n",
        "x='g'\n",
        "dict[x]=7\n",
        "dict"
      ],
      "metadata": {
        "colab": {
          "base_uri": "https://localhost:8080/"
        },
        "id": "vClPZberbWQr",
        "outputId": "ec52a491-601b-4a7a-cb64-82a37010c74a"
      },
      "execution_count": null,
      "outputs": [
        {
          "output_type": "execute_result",
          "data": {
            "text/plain": [
              "{'a': 3, 'b': 3, 'c': 4, 'f': 5, 'g': 7}"
            ]
          },
          "metadata": {},
          "execution_count": 11
        }
      ]
    },
    {
      "cell_type": "code",
      "source": [
        "from heapq import nlargest\n",
        "res = nlargest(5, dict, key = dict.get)"
      ],
      "metadata": {
        "id": "bfmZWE6cdYwq"
      },
      "execution_count": null,
      "outputs": []
    },
    {
      "cell_type": "code",
      "source": [
        "res"
      ],
      "metadata": {
        "colab": {
          "base_uri": "https://localhost:8080/"
        },
        "id": "bEiDD0njedEU",
        "outputId": "36875793-71db-4688-845d-bd2b7241d3e5"
      },
      "execution_count": null,
      "outputs": [
        {
          "output_type": "execute_result",
          "data": {
            "text/plain": [
              "['g', 'f', 'c', 'a', 'b']"
            ]
          },
          "metadata": {},
          "execution_count": 16
        }
      ]
    },
    {
      "cell_type": "code",
      "source": [
        "import pandas as pd\n",
        "count=0\n",
        "df_new=column={'user_id','song_id','count'}\n",
        "df_new=pd.DataFrame(columns=column)\n",
        "with open('/content/drive/MyDrive/train_triplets.txt','r') as data_file:\n",
        "    for line in data_file:\n",
        "        data = line.split('\\t')\n",
        "        df_new=df_new.append(data,ignore_index=True)   \n",
        "        count=count+1;\n",
        "        if(count==2):\n",
        "          break     "
      ],
      "metadata": {
        "id": "OxLHrodbf_-h"
      },
      "execution_count": null,
      "outputs": []
    },
    {
      "cell_type": "code",
      "source": [
        "df_new"
      ],
      "metadata": {
        "colab": {
          "base_uri": "https://localhost:8080/",
          "height": 237
        },
        "id": "AnMz5vrxixye",
        "outputId": "4d58f771-2888-41b9-ea1d-a432391c11f7"
      },
      "execution_count": null,
      "outputs": [
        {
          "output_type": "execute_result",
          "data": {
            "text/plain": [
              "                                          0 count song_id user_id\n",
              "0  b80344d063b5ccb3212f76538f3d9e43d87dca9e   NaN     NaN     NaN\n",
              "1                        SOAKIMP12A8C130995   NaN     NaN     NaN\n",
              "2                                       1\\n   NaN     NaN     NaN\n",
              "3  b80344d063b5ccb3212f76538f3d9e43d87dca9e   NaN     NaN     NaN\n",
              "4                        SOAPDEY12A81C210A9   NaN     NaN     NaN\n",
              "5                                       1\\n   NaN     NaN     NaN"
            ],
            "text/html": [
              "\n",
              "  <div id=\"df-c53b41f0-8658-4981-89fc-add1047fde83\">\n",
              "    <div class=\"colab-df-container\">\n",
              "      <div>\n",
              "<style scoped>\n",
              "    .dataframe tbody tr th:only-of-type {\n",
              "        vertical-align: middle;\n",
              "    }\n",
              "\n",
              "    .dataframe tbody tr th {\n",
              "        vertical-align: top;\n",
              "    }\n",
              "\n",
              "    .dataframe thead th {\n",
              "        text-align: right;\n",
              "    }\n",
              "</style>\n",
              "<table border=\"1\" class=\"dataframe\">\n",
              "  <thead>\n",
              "    <tr style=\"text-align: right;\">\n",
              "      <th></th>\n",
              "      <th>0</th>\n",
              "      <th>count</th>\n",
              "      <th>song_id</th>\n",
              "      <th>user_id</th>\n",
              "    </tr>\n",
              "  </thead>\n",
              "  <tbody>\n",
              "    <tr>\n",
              "      <th>0</th>\n",
              "      <td>b80344d063b5ccb3212f76538f3d9e43d87dca9e</td>\n",
              "      <td>NaN</td>\n",
              "      <td>NaN</td>\n",
              "      <td>NaN</td>\n",
              "    </tr>\n",
              "    <tr>\n",
              "      <th>1</th>\n",
              "      <td>SOAKIMP12A8C130995</td>\n",
              "      <td>NaN</td>\n",
              "      <td>NaN</td>\n",
              "      <td>NaN</td>\n",
              "    </tr>\n",
              "    <tr>\n",
              "      <th>2</th>\n",
              "      <td>1\\n</td>\n",
              "      <td>NaN</td>\n",
              "      <td>NaN</td>\n",
              "      <td>NaN</td>\n",
              "    </tr>\n",
              "    <tr>\n",
              "      <th>3</th>\n",
              "      <td>b80344d063b5ccb3212f76538f3d9e43d87dca9e</td>\n",
              "      <td>NaN</td>\n",
              "      <td>NaN</td>\n",
              "      <td>NaN</td>\n",
              "    </tr>\n",
              "    <tr>\n",
              "      <th>4</th>\n",
              "      <td>SOAPDEY12A81C210A9</td>\n",
              "      <td>NaN</td>\n",
              "      <td>NaN</td>\n",
              "      <td>NaN</td>\n",
              "    </tr>\n",
              "    <tr>\n",
              "      <th>5</th>\n",
              "      <td>1\\n</td>\n",
              "      <td>NaN</td>\n",
              "      <td>NaN</td>\n",
              "      <td>NaN</td>\n",
              "    </tr>\n",
              "  </tbody>\n",
              "</table>\n",
              "</div>\n",
              "      <button class=\"colab-df-convert\" onclick=\"convertToInteractive('df-c53b41f0-8658-4981-89fc-add1047fde83')\"\n",
              "              title=\"Convert this dataframe to an interactive table.\"\n",
              "              style=\"display:none;\">\n",
              "        \n",
              "  <svg xmlns=\"http://www.w3.org/2000/svg\" height=\"24px\"viewBox=\"0 0 24 24\"\n",
              "       width=\"24px\">\n",
              "    <path d=\"M0 0h24v24H0V0z\" fill=\"none\"/>\n",
              "    <path d=\"M18.56 5.44l.94 2.06.94-2.06 2.06-.94-2.06-.94-.94-2.06-.94 2.06-2.06.94zm-11 1L8.5 8.5l.94-2.06 2.06-.94-2.06-.94L8.5 2.5l-.94 2.06-2.06.94zm10 10l.94 2.06.94-2.06 2.06-.94-2.06-.94-.94-2.06-.94 2.06-2.06.94z\"/><path d=\"M17.41 7.96l-1.37-1.37c-.4-.4-.92-.59-1.43-.59-.52 0-1.04.2-1.43.59L10.3 9.45l-7.72 7.72c-.78.78-.78 2.05 0 2.83L4 21.41c.39.39.9.59 1.41.59.51 0 1.02-.2 1.41-.59l7.78-7.78 2.81-2.81c.8-.78.8-2.07 0-2.86zM5.41 20L4 18.59l7.72-7.72 1.47 1.35L5.41 20z\"/>\n",
              "  </svg>\n",
              "      </button>\n",
              "      \n",
              "  <style>\n",
              "    .colab-df-container {\n",
              "      display:flex;\n",
              "      flex-wrap:wrap;\n",
              "      gap: 12px;\n",
              "    }\n",
              "\n",
              "    .colab-df-convert {\n",
              "      background-color: #E8F0FE;\n",
              "      border: none;\n",
              "      border-radius: 50%;\n",
              "      cursor: pointer;\n",
              "      display: none;\n",
              "      fill: #1967D2;\n",
              "      height: 32px;\n",
              "      padding: 0 0 0 0;\n",
              "      width: 32px;\n",
              "    }\n",
              "\n",
              "    .colab-df-convert:hover {\n",
              "      background-color: #E2EBFA;\n",
              "      box-shadow: 0px 1px 2px rgba(60, 64, 67, 0.3), 0px 1px 3px 1px rgba(60, 64, 67, 0.15);\n",
              "      fill: #174EA6;\n",
              "    }\n",
              "\n",
              "    [theme=dark] .colab-df-convert {\n",
              "      background-color: #3B4455;\n",
              "      fill: #D2E3FC;\n",
              "    }\n",
              "\n",
              "    [theme=dark] .colab-df-convert:hover {\n",
              "      background-color: #434B5C;\n",
              "      box-shadow: 0px 1px 3px 1px rgba(0, 0, 0, 0.15);\n",
              "      filter: drop-shadow(0px 1px 2px rgba(0, 0, 0, 0.3));\n",
              "      fill: #FFFFFF;\n",
              "    }\n",
              "  </style>\n",
              "\n",
              "      <script>\n",
              "        const buttonEl =\n",
              "          document.querySelector('#df-c53b41f0-8658-4981-89fc-add1047fde83 button.colab-df-convert');\n",
              "        buttonEl.style.display =\n",
              "          google.colab.kernel.accessAllowed ? 'block' : 'none';\n",
              "\n",
              "        async function convertToInteractive(key) {\n",
              "          const element = document.querySelector('#df-c53b41f0-8658-4981-89fc-add1047fde83');\n",
              "          const dataTable =\n",
              "            await google.colab.kernel.invokeFunction('convertToInteractive',\n",
              "                                                     [key], {});\n",
              "          if (!dataTable) return;\n",
              "\n",
              "          const docLinkHtml = 'Like what you see? Visit the ' +\n",
              "            '<a target=\"_blank\" href=https://colab.research.google.com/notebooks/data_table.ipynb>data table notebook</a>'\n",
              "            + ' to learn more about interactive tables.';\n",
              "          element.innerHTML = '';\n",
              "          dataTable['output_type'] = 'display_data';\n",
              "          await google.colab.output.renderOutput(dataTable, element);\n",
              "          const docLink = document.createElement('div');\n",
              "          docLink.innerHTML = docLinkHtml;\n",
              "          element.appendChild(docLink);\n",
              "        }\n",
              "      </script>\n",
              "    </div>\n",
              "  </div>\n",
              "  "
            ]
          },
          "metadata": {},
          "execution_count": 24
        }
      ]
    },
    {
      "cell_type": "code",
      "source": [
        "count"
      ],
      "metadata": {
        "colab": {
          "base_uri": "https://localhost:8080/"
        },
        "id": "jCw1c-AVi2cy",
        "outputId": "bb145343-fba4-4156-b06a-518a5f3ccd82"
      },
      "execution_count": null,
      "outputs": [
        {
          "output_type": "execute_result",
          "data": {
            "text/plain": [
              "2"
            ]
          },
          "metadata": {},
          "execution_count": 22
        }
      ]
    },
    {
      "cell_type": "code",
      "source": [
        ""
      ],
      "metadata": {
        "id": "jp12KX82qs9P"
      },
      "execution_count": null,
      "outputs": []
    }
  ]
}